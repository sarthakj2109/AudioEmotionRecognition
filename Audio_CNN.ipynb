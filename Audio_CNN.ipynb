{
  "nbformat": 4,
  "nbformat_minor": 0,
  "metadata": {
    "colab": {
      "name": "Audio_CNN.ipynb",
      "provenance": [],
      "collapsed_sections": []
    },
    "kernelspec": {
      "name": "python3",
      "display_name": "Python 3"
    },
    "language_info": {
      "name": "python"
    }
  },
  "cells": [
    {
      "cell_type": "markdown",
      "metadata": {
        "id": "uYxmHEThTrH1"
      },
      "source": [
        "#**CNN Architecture**"
      ]
    },
    {
      "cell_type": "markdown",
      "metadata": {
        "id": "jFcoNlItTgtT"
      },
      "source": [
        "##Mounting Google Drive"
      ]
    },
    {
      "cell_type": "code",
      "metadata": {
        "colab": {
          "base_uri": "https://localhost:8080/"
        },
        "id": "gwyom_ZAVGwB",
        "outputId": "bdb8cebd-d411-4b46-90ff-ce639020ba8b"
      },
      "source": [
        "from google.colab import drive\n",
        "drive.mount('/content/gdrive')"
      ],
      "execution_count": null,
      "outputs": [
        {
          "output_type": "stream",
          "name": "stdout",
          "text": [
            "Mounted at /content/gdrive\n"
          ]
        }
      ]
    },
    {
      "cell_type": "markdown",
      "metadata": {
        "id": "MM5SiyugT75U"
      },
      "source": [
        "##Installing and Importing Libraries"
      ]
    },
    {
      "cell_type": "code",
      "metadata": {
        "colab": {
          "base_uri": "https://localhost:8080/"
        },
        "id": "fmqM0CB4VZgk",
        "outputId": "81a5343a-eb0c-4a34-f12e-a5f361812db7"
      },
      "source": [
        "!pip install librosa"
      ],
      "execution_count": null,
      "outputs": [
        {
          "output_type": "stream",
          "name": "stdout",
          "text": [
            "Requirement already satisfied: librosa in /usr/local/lib/python3.7/dist-packages (0.8.1)\n",
            "Requirement already satisfied: pooch>=1.0 in /usr/local/lib/python3.7/dist-packages (from librosa) (1.5.1)\n",
            "Requirement already satisfied: audioread>=2.0.0 in /usr/local/lib/python3.7/dist-packages (from librosa) (2.1.9)\n",
            "Requirement already satisfied: scikit-learn!=0.19.0,>=0.14.0 in /usr/local/lib/python3.7/dist-packages (from librosa) (0.22.2.post1)\n",
            "Requirement already satisfied: scipy>=1.0.0 in /usr/local/lib/python3.7/dist-packages (from librosa) (1.4.1)\n",
            "Requirement already satisfied: resampy>=0.2.2 in /usr/local/lib/python3.7/dist-packages (from librosa) (0.2.2)\n",
            "Requirement already satisfied: soundfile>=0.10.2 in /usr/local/lib/python3.7/dist-packages (from librosa) (0.10.3.post1)\n",
            "Requirement already satisfied: joblib>=0.14 in /usr/local/lib/python3.7/dist-packages (from librosa) (1.0.1)\n",
            "Requirement already satisfied: numba>=0.43.0 in /usr/local/lib/python3.7/dist-packages (from librosa) (0.51.2)\n",
            "Requirement already satisfied: packaging>=20.0 in /usr/local/lib/python3.7/dist-packages (from librosa) (21.0)\n",
            "Requirement already satisfied: decorator>=3.0.0 in /usr/local/lib/python3.7/dist-packages (from librosa) (4.4.2)\n",
            "Requirement already satisfied: numpy>=1.15.0 in /usr/local/lib/python3.7/dist-packages (from librosa) (1.19.5)\n",
            "Requirement already satisfied: setuptools in /usr/local/lib/python3.7/dist-packages (from numba>=0.43.0->librosa) (57.4.0)\n",
            "Requirement already satisfied: llvmlite<0.35,>=0.34.0.dev0 in /usr/local/lib/python3.7/dist-packages (from numba>=0.43.0->librosa) (0.34.0)\n",
            "Requirement already satisfied: pyparsing>=2.0.2 in /usr/local/lib/python3.7/dist-packages (from packaging>=20.0->librosa) (2.4.7)\n",
            "Requirement already satisfied: requests in /usr/local/lib/python3.7/dist-packages (from pooch>=1.0->librosa) (2.23.0)\n",
            "Requirement already satisfied: appdirs in /usr/local/lib/python3.7/dist-packages (from pooch>=1.0->librosa) (1.4.4)\n",
            "Requirement already satisfied: six>=1.3 in /usr/local/lib/python3.7/dist-packages (from resampy>=0.2.2->librosa) (1.15.0)\n",
            "Requirement already satisfied: cffi>=1.0 in /usr/local/lib/python3.7/dist-packages (from soundfile>=0.10.2->librosa) (1.14.6)\n",
            "Requirement already satisfied: pycparser in /usr/local/lib/python3.7/dist-packages (from cffi>=1.0->soundfile>=0.10.2->librosa) (2.20)\n",
            "Requirement already satisfied: idna<3,>=2.5 in /usr/local/lib/python3.7/dist-packages (from requests->pooch>=1.0->librosa) (2.10)\n",
            "Requirement already satisfied: chardet<4,>=3.0.2 in /usr/local/lib/python3.7/dist-packages (from requests->pooch>=1.0->librosa) (3.0.4)\n",
            "Requirement already satisfied: urllib3!=1.25.0,!=1.25.1,<1.26,>=1.21.1 in /usr/local/lib/python3.7/dist-packages (from requests->pooch>=1.0->librosa) (1.24.3)\n",
            "Requirement already satisfied: certifi>=2017.4.17 in /usr/local/lib/python3.7/dist-packages (from requests->pooch>=1.0->librosa) (2021.5.30)\n"
          ]
        }
      ]
    },
    {
      "cell_type": "code",
      "metadata": {
        "id": "6akxDew-VdDE"
      },
      "source": [
        "import librosa\n",
        "import os\n",
        "import numpy as np"
      ],
      "execution_count": null,
      "outputs": []
    },
    {
      "cell_type": "markdown",
      "metadata": {
        "id": "lnWGE7fAUvAf"
      },
      "source": [
        "##Uploading Preprocessed Data From Google Drive"
      ]
    },
    {
      "cell_type": "code",
      "metadata": {
        "colab": {
          "base_uri": "https://localhost:8080/"
        },
        "id": "xn-aYrPyVgGB",
        "outputId": "30a1b67f-af0e-423c-dc1c-3157755af919"
      },
      "source": [
        "#Total Number Of Audio Files\n",
        "p=\"/content/gdrive/MyDrive/AudioDatabase\"\n",
        "os.chdir(p)\n",
        "class_count = len(os.listdir(p))\n",
        "print(class_count)"
      ],
      "execution_count": null,
      "outputs": [
        {
          "output_type": "stream",
          "name": "stdout",
          "text": [
            "2454\n"
          ]
        }
      ]
    },
    {
      "cell_type": "code",
      "metadata": {
        "id": "cX_wO5X9Vuey"
      },
      "source": [
        "import joblib\n",
        "X = joblib.load('/content/gdrive/MyDrive/AudioDatabases/X.joblib')\n",
        "Y = joblib.load('/content/gdrive/MyDrive/AudioDatabases/Y.joblib')"
      ],
      "execution_count": null,
      "outputs": []
    },
    {
      "cell_type": "markdown",
      "metadata": {
        "id": "rLfrFG4pVpys"
      },
      "source": [
        "##Splitting the data into trainig and test set"
      ]
    },
    {
      "cell_type": "code",
      "metadata": {
        "id": "pvWwPFF6V9wX"
      },
      "source": [
        "from sklearn.model_selection import train_test_split\n",
        "X_train, X_test, y_train, y_test = train_test_split(X,Y, test_size=0.20, random_state=42)"
      ],
      "execution_count": null,
      "outputs": []
    },
    {
      "cell_type": "code",
      "metadata": {
        "id": "YLWNq0w9WBCw"
      },
      "source": [
        "import keras\n",
        "import numpy as np\n",
        "import matplotlib.pyplot as plt\n",
        "import tensorflow as tf\n",
        "from keras.preprocessing import sequence\n",
        "from keras.models import Sequential\n",
        "from keras.layers import Dense, Embedding\n",
        "from keras.layers import Input, Flatten, Dropout, Activation\n",
        "from keras.layers import Conv1D, MaxPooling1D\n",
        "from keras.models import Model\n",
        "from keras.callbacks import ModelCheckpoint"
      ],
      "execution_count": null,
      "outputs": []
    },
    {
      "cell_type": "markdown",
      "metadata": {
        "id": "tYLnZhFvWaGq"
      },
      "source": [
        "##Creating CNN Architecture"
      ]
    },
    {
      "cell_type": "code",
      "metadata": {
        "colab": {
          "base_uri": "https://localhost:8080/"
        },
        "id": "7zGld1ZOWWMr",
        "outputId": "0da4049b-1ccd-4456-e42d-c84a6af412d7"
      },
      "source": [
        "model = Sequential()\n",
        "model.add(Conv1D(64, 5, activation='relu', input_shape=(40,1)))\n",
        "model.add(Conv1D(128, 5,activation='relu'))\n",
        "model.add(MaxPooling1D(pool_size=(8)))\n",
        "model.add(Dropout(0.2))\n",
        "model.add(Flatten())\n",
        "model.add(Dense(256, activation='relu'))\n",
        "model.add(Dropout(0.2))\n",
        "model.add(Dense(8, activation='softmax'))\n",
        "opt = tf.keras.optimizers.Adam(lr=0.0001)\n",
        "model.compile(loss='categorical_crossentropy', optimizer=opt,metrics=['accuracy'])\n",
        "model.summary()"
      ],
      "execution_count": null,
      "outputs": [
        {
          "output_type": "stream",
          "name": "stdout",
          "text": [
            "Model: \"sequential\"\n",
            "_________________________________________________________________\n",
            "Layer (type)                 Output Shape              Param #   \n",
            "=================================================================\n",
            "conv1d (Conv1D)              (None, 36, 64)            384       \n",
            "_________________________________________________________________\n",
            "conv1d_1 (Conv1D)            (None, 32, 128)           41088     \n",
            "_________________________________________________________________\n",
            "max_pooling1d (MaxPooling1D) (None, 4, 128)            0         \n",
            "_________________________________________________________________\n",
            "dropout (Dropout)            (None, 4, 128)            0         \n",
            "_________________________________________________________________\n",
            "flatten (Flatten)            (None, 512)               0         \n",
            "_________________________________________________________________\n",
            "dense (Dense)                (None, 256)               131328    \n",
            "_________________________________________________________________\n",
            "dropout_1 (Dropout)          (None, 256)               0         \n",
            "_________________________________________________________________\n",
            "dense_1 (Dense)              (None, 8)                 2056      \n",
            "=================================================================\n",
            "Total params: 174,856\n",
            "Trainable params: 174,856\n",
            "Non-trainable params: 0\n",
            "_________________________________________________________________\n"
          ]
        },
        {
          "output_type": "stream",
          "name": "stderr",
          "text": [
            "/usr/local/lib/python3.7/dist-packages/keras/optimizer_v2/optimizer_v2.py:356: UserWarning: The `lr` argument is deprecated, use `learning_rate` instead.\n",
            "  \"The `lr` argument is deprecated, use `learning_rate` instead.\")\n"
          ]
        }
      ]
    },
    {
      "cell_type": "markdown",
      "metadata": {
        "id": "ZeOswZPTW5ej"
      },
      "source": [
        "##Compiling And training the Model"
      ]
    },
    {
      "cell_type": "markdown",
      "metadata": {
        "id": "2zp7jgPUbPG2"
      },
      "source": [
        "####Using SGD optimizer"
      ]
    },
    {
      "cell_type": "code",
      "metadata": {
        "id": "_cmQVeogWlIT"
      },
      "source": [
        "model.compile(loss='sparse_categorical_crossentropy',\n",
        "              optimizer='SGD',\n",
        "              metrics=['accuracy'])\n",
        "import numpy as np\n",
        "x_traincnn = np.expand_dims(X_train, axis=2)\n",
        "x_testcnn = np.expand_dims(X_test, axis=2)"
      ],
      "execution_count": null,
      "outputs": []
    },
    {
      "cell_type": "code",
      "metadata": {
        "colab": {
          "base_uri": "https://localhost:8080/"
        },
        "id": "cQax3D5tWqsQ",
        "outputId": "bd39c8d3-b998-4b7b-e965-9e3a5d1c5e64"
      },
      "source": [
        "x_traincnn=np.array(x_traincnn)\n",
        "y_train=np.array(y_train)\n",
        "x_testcnn=np.array(x_testcnn)\n",
        "y_test=np.array(y_test)\n",
        "cnnhistory=model.fit(x_traincnn, y_train, batch_size=32, epochs=200, validation_data=(x_testcnn, y_test))"
      ],
      "execution_count": null,
      "outputs": [
        {
          "output_type": "stream",
          "name": "stdout",
          "text": [
            "Epoch 1/200\n",
            "62/62 [==============================] - 2s 17ms/step - loss: 2.2957 - accuracy: 0.2022 - val_loss: 1.8920 - val_accuracy: 0.2363\n",
            "Epoch 2/200\n",
            "62/62 [==============================] - 1s 14ms/step - loss: 1.8901 - accuracy: 0.2547 - val_loss: 1.7870 - val_accuracy: 0.2872\n",
            "Epoch 3/200\n",
            "62/62 [==============================] - 1s 13ms/step - loss: 1.7938 - accuracy: 0.3077 - val_loss: 1.7319 - val_accuracy: 0.3483\n",
            "Epoch 4/200\n",
            "62/62 [==============================] - 1s 13ms/step - loss: 1.7133 - accuracy: 0.3546 - val_loss: 1.6643 - val_accuracy: 0.3747\n",
            "Epoch 5/200\n",
            "62/62 [==============================] - 1s 14ms/step - loss: 1.6714 - accuracy: 0.3561 - val_loss: 1.5731 - val_accuracy: 0.4786\n",
            "Epoch 6/200\n",
            "62/62 [==============================] - 1s 13ms/step - loss: 1.6050 - accuracy: 0.3877 - val_loss: 1.5639 - val_accuracy: 0.3809\n",
            "Epoch 7/200\n",
            "62/62 [==============================] - 1s 13ms/step - loss: 1.5705 - accuracy: 0.3968 - val_loss: 1.5239 - val_accuracy: 0.4073\n",
            "Epoch 8/200\n",
            "62/62 [==============================] - 1s 13ms/step - loss: 1.5027 - accuracy: 0.4300 - val_loss: 1.5209 - val_accuracy: 0.4216\n",
            "Epoch 9/200\n",
            "62/62 [==============================] - 1s 13ms/step - loss: 1.4607 - accuracy: 0.4381 - val_loss: 1.4800 - val_accuracy: 0.4868\n",
            "Epoch 10/200\n",
            "62/62 [==============================] - 1s 13ms/step - loss: 1.4424 - accuracy: 0.4559 - val_loss: 1.4016 - val_accuracy: 0.5010\n",
            "Epoch 11/200\n",
            "62/62 [==============================] - 1s 13ms/step - loss: 1.4211 - accuracy: 0.4651 - val_loss: 1.4201 - val_accuracy: 0.4562\n",
            "Epoch 12/200\n",
            "62/62 [==============================] - 1s 13ms/step - loss: 1.3497 - accuracy: 0.4906 - val_loss: 1.3448 - val_accuracy: 0.5336\n",
            "Epoch 13/200\n",
            "62/62 [==============================] - 1s 13ms/step - loss: 1.3240 - accuracy: 0.4931 - val_loss: 1.3158 - val_accuracy: 0.5560\n",
            "Epoch 14/200\n",
            "62/62 [==============================] - 1s 13ms/step - loss: 1.3106 - accuracy: 0.5048 - val_loss: 1.3406 - val_accuracy: 0.4766\n",
            "Epoch 15/200\n",
            "62/62 [==============================] - 1s 13ms/step - loss: 1.2900 - accuracy: 0.5211 - val_loss: 1.2691 - val_accuracy: 0.5723\n",
            "Epoch 16/200\n",
            "62/62 [==============================] - 1s 13ms/step - loss: 1.2407 - accuracy: 0.5359 - val_loss: 1.2547 - val_accuracy: 0.5682\n",
            "Epoch 17/200\n",
            "62/62 [==============================] - 1s 13ms/step - loss: 1.2331 - accuracy: 0.5405 - val_loss: 1.3448 - val_accuracy: 0.5112\n",
            "Epoch 18/200\n",
            "62/62 [==============================] - 1s 14ms/step - loss: 1.1935 - accuracy: 0.5537 - val_loss: 1.5629 - val_accuracy: 0.4399\n",
            "Epoch 19/200\n",
            "62/62 [==============================] - 1s 13ms/step - loss: 1.1984 - accuracy: 0.5706 - val_loss: 1.2958 - val_accuracy: 0.4908\n",
            "Epoch 20/200\n",
            "62/62 [==============================] - 1s 13ms/step - loss: 1.1674 - accuracy: 0.5532 - val_loss: 1.1771 - val_accuracy: 0.5866\n",
            "Epoch 21/200\n",
            "62/62 [==============================] - 1s 13ms/step - loss: 1.1566 - accuracy: 0.5639 - val_loss: 1.2273 - val_accuracy: 0.5723\n",
            "Epoch 22/200\n",
            "62/62 [==============================] - 1s 13ms/step - loss: 1.1428 - accuracy: 0.5863 - val_loss: 1.1881 - val_accuracy: 0.5703\n",
            "Epoch 23/200\n",
            "62/62 [==============================] - 1s 14ms/step - loss: 1.0854 - accuracy: 0.5986 - val_loss: 1.4360 - val_accuracy: 0.4908\n",
            "Epoch 24/200\n",
            "62/62 [==============================] - 1s 13ms/step - loss: 1.0990 - accuracy: 0.5925 - val_loss: 1.1517 - val_accuracy: 0.5866\n",
            "Epoch 25/200\n",
            "62/62 [==============================] - 1s 13ms/step - loss: 1.0846 - accuracy: 0.5945 - val_loss: 1.1248 - val_accuracy: 0.6069\n",
            "Epoch 26/200\n",
            "62/62 [==============================] - 1s 14ms/step - loss: 1.0716 - accuracy: 0.6057 - val_loss: 1.2447 - val_accuracy: 0.5499\n",
            "Epoch 27/200\n",
            "62/62 [==============================] - 1s 13ms/step - loss: 1.0234 - accuracy: 0.6210 - val_loss: 1.1334 - val_accuracy: 0.6090\n",
            "Epoch 28/200\n",
            "62/62 [==============================] - 1s 13ms/step - loss: 1.0224 - accuracy: 0.6195 - val_loss: 1.1045 - val_accuracy: 0.6232\n",
            "Epoch 29/200\n",
            "62/62 [==============================] - 1s 13ms/step - loss: 1.0153 - accuracy: 0.6230 - val_loss: 1.1907 - val_accuracy: 0.5580\n",
            "Epoch 30/200\n",
            "62/62 [==============================] - 1s 14ms/step - loss: 0.9755 - accuracy: 0.6460 - val_loss: 1.1049 - val_accuracy: 0.5927\n",
            "Epoch 31/200\n",
            "62/62 [==============================] - 1s 13ms/step - loss: 0.9724 - accuracy: 0.6470 - val_loss: 1.1156 - val_accuracy: 0.5988\n",
            "Epoch 32/200\n",
            "62/62 [==============================] - 1s 14ms/step - loss: 0.9533 - accuracy: 0.6414 - val_loss: 1.1903 - val_accuracy: 0.5927\n",
            "Epoch 33/200\n",
            "62/62 [==============================] - 1s 14ms/step - loss: 0.9603 - accuracy: 0.6465 - val_loss: 1.0744 - val_accuracy: 0.6029\n",
            "Epoch 34/200\n",
            "62/62 [==============================] - 1s 13ms/step - loss: 0.9045 - accuracy: 0.6826 - val_loss: 1.1010 - val_accuracy: 0.6090\n",
            "Epoch 35/200\n",
            "62/62 [==============================] - 1s 13ms/step - loss: 0.9135 - accuracy: 0.6755 - val_loss: 1.1100 - val_accuracy: 0.6029\n",
            "Epoch 36/200\n",
            "62/62 [==============================] - 1s 14ms/step - loss: 0.9016 - accuracy: 0.6765 - val_loss: 1.0973 - val_accuracy: 0.6029\n",
            "Epoch 37/200\n",
            "62/62 [==============================] - 1s 13ms/step - loss: 0.8863 - accuracy: 0.6801 - val_loss: 1.3013 - val_accuracy: 0.5336\n",
            "Epoch 38/200\n",
            "62/62 [==============================] - 1s 14ms/step - loss: 0.8854 - accuracy: 0.6724 - val_loss: 1.0899 - val_accuracy: 0.6253\n",
            "Epoch 39/200\n",
            "62/62 [==============================] - 1s 13ms/step - loss: 0.8795 - accuracy: 0.6755 - val_loss: 1.0817 - val_accuracy: 0.6049\n",
            "Epoch 40/200\n",
            "62/62 [==============================] - 1s 13ms/step - loss: 0.8457 - accuracy: 0.6801 - val_loss: 1.1713 - val_accuracy: 0.5804\n",
            "Epoch 41/200\n",
            "62/62 [==============================] - 1s 13ms/step - loss: 0.8075 - accuracy: 0.7132 - val_loss: 1.0218 - val_accuracy: 0.6415\n",
            "Epoch 42/200\n",
            "62/62 [==============================] - 1s 13ms/step - loss: 0.8266 - accuracy: 0.7035 - val_loss: 1.0660 - val_accuracy: 0.6293\n",
            "Epoch 43/200\n",
            "62/62 [==============================] - 1s 14ms/step - loss: 0.8076 - accuracy: 0.7086 - val_loss: 1.0606 - val_accuracy: 0.6436\n",
            "Epoch 44/200\n",
            "62/62 [==============================] - 1s 13ms/step - loss: 0.8040 - accuracy: 0.7040 - val_loss: 1.0266 - val_accuracy: 0.6293\n",
            "Epoch 45/200\n",
            "62/62 [==============================] - 1s 13ms/step - loss: 0.7713 - accuracy: 0.7224 - val_loss: 0.9788 - val_accuracy: 0.6517\n",
            "Epoch 46/200\n",
            "62/62 [==============================] - 1s 13ms/step - loss: 0.7856 - accuracy: 0.7081 - val_loss: 1.0649 - val_accuracy: 0.6354\n",
            "Epoch 47/200\n",
            "62/62 [==============================] - 1s 14ms/step - loss: 0.7730 - accuracy: 0.7178 - val_loss: 0.9881 - val_accuracy: 0.6415\n",
            "Epoch 48/200\n",
            "62/62 [==============================] - 1s 14ms/step - loss: 0.7618 - accuracy: 0.7254 - val_loss: 0.9769 - val_accuracy: 0.6599\n",
            "Epoch 49/200\n",
            "62/62 [==============================] - 1s 13ms/step - loss: 0.7431 - accuracy: 0.7305 - val_loss: 1.0509 - val_accuracy: 0.6253\n",
            "Epoch 50/200\n",
            "62/62 [==============================] - 1s 14ms/step - loss: 0.7415 - accuracy: 0.7422 - val_loss: 0.9776 - val_accuracy: 0.6680\n",
            "Epoch 51/200\n",
            "62/62 [==============================] - 1s 14ms/step - loss: 0.7247 - accuracy: 0.7494 - val_loss: 0.9915 - val_accuracy: 0.6415\n",
            "Epoch 52/200\n",
            "62/62 [==============================] - 1s 13ms/step - loss: 0.6804 - accuracy: 0.7570 - val_loss: 1.0514 - val_accuracy: 0.5988\n",
            "Epoch 53/200\n",
            "62/62 [==============================] - 1s 13ms/step - loss: 0.7037 - accuracy: 0.7315 - val_loss: 1.1238 - val_accuracy: 0.6110\n",
            "Epoch 54/200\n",
            "62/62 [==============================] - 1s 13ms/step - loss: 0.6775 - accuracy: 0.7468 - val_loss: 0.9707 - val_accuracy: 0.6762\n",
            "Epoch 55/200\n",
            "62/62 [==============================] - 1s 14ms/step - loss: 0.6784 - accuracy: 0.7555 - val_loss: 1.1122 - val_accuracy: 0.6029\n",
            "Epoch 56/200\n",
            "62/62 [==============================] - 1s 13ms/step - loss: 0.6603 - accuracy: 0.7534 - val_loss: 0.9517 - val_accuracy: 0.6721\n",
            "Epoch 57/200\n",
            "62/62 [==============================] - 1s 14ms/step - loss: 0.6593 - accuracy: 0.7504 - val_loss: 0.9809 - val_accuracy: 0.6640\n",
            "Epoch 58/200\n",
            "62/62 [==============================] - 1s 14ms/step - loss: 0.6562 - accuracy: 0.7606 - val_loss: 1.1072 - val_accuracy: 0.6049\n",
            "Epoch 59/200\n",
            "62/62 [==============================] - 1s 14ms/step - loss: 0.6584 - accuracy: 0.7601 - val_loss: 1.0463 - val_accuracy: 0.6293\n",
            "Epoch 60/200\n",
            "62/62 [==============================] - 1s 13ms/step - loss: 0.6384 - accuracy: 0.7733 - val_loss: 0.9761 - val_accuracy: 0.6680\n",
            "Epoch 61/200\n",
            "62/62 [==============================] - 1s 14ms/step - loss: 0.6138 - accuracy: 0.7815 - val_loss: 0.9635 - val_accuracy: 0.6802\n",
            "Epoch 62/200\n",
            "62/62 [==============================] - 1s 13ms/step - loss: 0.6224 - accuracy: 0.7677 - val_loss: 1.0754 - val_accuracy: 0.6354\n",
            "Epoch 63/200\n",
            "62/62 [==============================] - 1s 14ms/step - loss: 0.5948 - accuracy: 0.7794 - val_loss: 0.9945 - val_accuracy: 0.6497\n",
            "Epoch 64/200\n",
            "62/62 [==============================] - 1s 14ms/step - loss: 0.5986 - accuracy: 0.7932 - val_loss: 1.0776 - val_accuracy: 0.5947\n",
            "Epoch 65/200\n",
            "62/62 [==============================] - 1s 13ms/step - loss: 0.5794 - accuracy: 0.8034 - val_loss: 0.9497 - val_accuracy: 0.6619\n",
            "Epoch 66/200\n",
            "62/62 [==============================] - 1s 14ms/step - loss: 0.5788 - accuracy: 0.7850 - val_loss: 1.0010 - val_accuracy: 0.6436\n",
            "Epoch 67/200\n",
            "62/62 [==============================] - 1s 14ms/step - loss: 0.5671 - accuracy: 0.7952 - val_loss: 0.9150 - val_accuracy: 0.6864\n",
            "Epoch 68/200\n",
            "62/62 [==============================] - 1s 14ms/step - loss: 0.5648 - accuracy: 0.8054 - val_loss: 0.9304 - val_accuracy: 0.6965\n",
            "Epoch 69/200\n",
            "62/62 [==============================] - 1s 13ms/step - loss: 0.5762 - accuracy: 0.8008 - val_loss: 0.9568 - val_accuracy: 0.6558\n",
            "Epoch 70/200\n",
            "62/62 [==============================] - 1s 13ms/step - loss: 0.5733 - accuracy: 0.7850 - val_loss: 0.9534 - val_accuracy: 0.6640\n",
            "Epoch 71/200\n",
            "62/62 [==============================] - 1s 14ms/step - loss: 0.5428 - accuracy: 0.8013 - val_loss: 0.9762 - val_accuracy: 0.6843\n",
            "Epoch 72/200\n",
            "62/62 [==============================] - 1s 14ms/step - loss: 0.5278 - accuracy: 0.8039 - val_loss: 0.9407 - val_accuracy: 0.6864\n",
            "Epoch 73/200\n",
            "62/62 [==============================] - 1s 14ms/step - loss: 0.5175 - accuracy: 0.8090 - val_loss: 0.9368 - val_accuracy: 0.6660\n",
            "Epoch 74/200\n",
            "62/62 [==============================] - 1s 14ms/step - loss: 0.5268 - accuracy: 0.8100 - val_loss: 1.1327 - val_accuracy: 0.6090\n",
            "Epoch 75/200\n",
            "62/62 [==============================] - 1s 13ms/step - loss: 0.5327 - accuracy: 0.8115 - val_loss: 0.9000 - val_accuracy: 0.6802\n",
            "Epoch 76/200\n",
            "62/62 [==============================] - 1s 14ms/step - loss: 0.5265 - accuracy: 0.8105 - val_loss: 0.9508 - val_accuracy: 0.6721\n",
            "Epoch 77/200\n",
            "62/62 [==============================] - 1s 14ms/step - loss: 0.5128 - accuracy: 0.8095 - val_loss: 0.9686 - val_accuracy: 0.6762\n",
            "Epoch 78/200\n",
            "62/62 [==============================] - 1s 14ms/step - loss: 0.4712 - accuracy: 0.8370 - val_loss: 0.9159 - val_accuracy: 0.6843\n",
            "Epoch 79/200\n",
            "62/62 [==============================] - 1s 14ms/step - loss: 0.4839 - accuracy: 0.8263 - val_loss: 1.0653 - val_accuracy: 0.6619\n",
            "Epoch 80/200\n",
            "62/62 [==============================] - 1s 14ms/step - loss: 0.4880 - accuracy: 0.8304 - val_loss: 1.2772 - val_accuracy: 0.5927\n",
            "Epoch 81/200\n",
            "62/62 [==============================] - 1s 14ms/step - loss: 0.4725 - accuracy: 0.8278 - val_loss: 1.0771 - val_accuracy: 0.6171\n",
            "Epoch 82/200\n",
            "62/62 [==============================] - 1s 13ms/step - loss: 0.4678 - accuracy: 0.8370 - val_loss: 0.9510 - val_accuracy: 0.6741\n",
            "Epoch 83/200\n",
            "62/62 [==============================] - 1s 14ms/step - loss: 0.4649 - accuracy: 0.8365 - val_loss: 0.9122 - val_accuracy: 0.6965\n",
            "Epoch 84/200\n",
            "62/62 [==============================] - 1s 14ms/step - loss: 0.4594 - accuracy: 0.8360 - val_loss: 0.9414 - val_accuracy: 0.6701\n",
            "Epoch 85/200\n",
            "62/62 [==============================] - 1s 14ms/step - loss: 0.4411 - accuracy: 0.8390 - val_loss: 0.9321 - val_accuracy: 0.6925\n",
            "Epoch 86/200\n",
            "62/62 [==============================] - 1s 13ms/step - loss: 0.4355 - accuracy: 0.8411 - val_loss: 0.9036 - val_accuracy: 0.6945\n",
            "Epoch 87/200\n",
            "62/62 [==============================] - 1s 14ms/step - loss: 0.4178 - accuracy: 0.8502 - val_loss: 0.9020 - val_accuracy: 0.6925\n",
            "Epoch 88/200\n",
            "62/62 [==============================] - 1s 14ms/step - loss: 0.4428 - accuracy: 0.8268 - val_loss: 0.9737 - val_accuracy: 0.6558\n",
            "Epoch 89/200\n",
            "62/62 [==============================] - 1s 14ms/step - loss: 0.4358 - accuracy: 0.8436 - val_loss: 0.9112 - val_accuracy: 0.6904\n",
            "Epoch 90/200\n",
            "62/62 [==============================] - 1s 14ms/step - loss: 0.3976 - accuracy: 0.8594 - val_loss: 0.8742 - val_accuracy: 0.7128\n",
            "Epoch 91/200\n",
            "62/62 [==============================] - 1s 14ms/step - loss: 0.3828 - accuracy: 0.8691 - val_loss: 0.8875 - val_accuracy: 0.7128\n",
            "Epoch 92/200\n",
            "62/62 [==============================] - 1s 14ms/step - loss: 0.3999 - accuracy: 0.8599 - val_loss: 0.8906 - val_accuracy: 0.7067\n",
            "Epoch 93/200\n",
            "62/62 [==============================] - 1s 14ms/step - loss: 0.4171 - accuracy: 0.8487 - val_loss: 0.8703 - val_accuracy: 0.7026\n",
            "Epoch 94/200\n",
            "62/62 [==============================] - 1s 14ms/step - loss: 0.4085 - accuracy: 0.8604 - val_loss: 0.9002 - val_accuracy: 0.7006\n",
            "Epoch 95/200\n",
            "62/62 [==============================] - 1s 14ms/step - loss: 0.4033 - accuracy: 0.8574 - val_loss: 0.8875 - val_accuracy: 0.7006\n",
            "Epoch 96/200\n",
            "62/62 [==============================] - 1s 14ms/step - loss: 0.4122 - accuracy: 0.8533 - val_loss: 0.9305 - val_accuracy: 0.6945\n",
            "Epoch 97/200\n",
            "62/62 [==============================] - 1s 14ms/step - loss: 0.3913 - accuracy: 0.8569 - val_loss: 0.8865 - val_accuracy: 0.6904\n",
            "Epoch 98/200\n",
            "62/62 [==============================] - 1s 14ms/step - loss: 0.3711 - accuracy: 0.8614 - val_loss: 0.9202 - val_accuracy: 0.7006\n",
            "Epoch 99/200\n",
            "62/62 [==============================] - 1s 14ms/step - loss: 0.3824 - accuracy: 0.8686 - val_loss: 0.9241 - val_accuracy: 0.6965\n",
            "Epoch 100/200\n",
            "62/62 [==============================] - 1s 14ms/step - loss: 0.3754 - accuracy: 0.8686 - val_loss: 0.9303 - val_accuracy: 0.7128\n",
            "Epoch 101/200\n",
            "62/62 [==============================] - 1s 14ms/step - loss: 0.3612 - accuracy: 0.8665 - val_loss: 0.8900 - val_accuracy: 0.7047\n",
            "Epoch 102/200\n",
            "62/62 [==============================] - 1s 14ms/step - loss: 0.3576 - accuracy: 0.8711 - val_loss: 1.0804 - val_accuracy: 0.6701\n",
            "Epoch 103/200\n",
            "62/62 [==============================] - 1s 15ms/step - loss: 0.3427 - accuracy: 0.8767 - val_loss: 0.9296 - val_accuracy: 0.7149\n",
            "Epoch 104/200\n",
            "62/62 [==============================] - 1s 15ms/step - loss: 0.3250 - accuracy: 0.8920 - val_loss: 0.8504 - val_accuracy: 0.7169\n",
            "Epoch 105/200\n",
            "62/62 [==============================] - 1s 14ms/step - loss: 0.3452 - accuracy: 0.8711 - val_loss: 0.9421 - val_accuracy: 0.6986\n",
            "Epoch 106/200\n",
            "62/62 [==============================] - 1s 14ms/step - loss: 0.3286 - accuracy: 0.8879 - val_loss: 0.9113 - val_accuracy: 0.7230\n",
            "Epoch 107/200\n",
            "62/62 [==============================] - 1s 14ms/step - loss: 0.3358 - accuracy: 0.8793 - val_loss: 0.8804 - val_accuracy: 0.7230\n",
            "Epoch 108/200\n",
            "62/62 [==============================] - 1s 14ms/step - loss: 0.3267 - accuracy: 0.8839 - val_loss: 1.5121 - val_accuracy: 0.5866\n",
            "Epoch 109/200\n",
            "62/62 [==============================] - 1s 14ms/step - loss: 0.3192 - accuracy: 0.8884 - val_loss: 0.9065 - val_accuracy: 0.7006\n",
            "Epoch 110/200\n",
            "62/62 [==============================] - 1s 14ms/step - loss: 0.3159 - accuracy: 0.8895 - val_loss: 0.9117 - val_accuracy: 0.7067\n",
            "Epoch 111/200\n",
            "62/62 [==============================] - 1s 14ms/step - loss: 0.3037 - accuracy: 0.9007 - val_loss: 0.8847 - val_accuracy: 0.7108\n",
            "Epoch 112/200\n",
            "62/62 [==============================] - 1s 15ms/step - loss: 0.3101 - accuracy: 0.8945 - val_loss: 0.9336 - val_accuracy: 0.6945\n",
            "Epoch 113/200\n",
            "62/62 [==============================] - 1s 14ms/step - loss: 0.3069 - accuracy: 0.8905 - val_loss: 0.9104 - val_accuracy: 0.7128\n",
            "Epoch 114/200\n",
            "62/62 [==============================] - 1s 14ms/step - loss: 0.3115 - accuracy: 0.8910 - val_loss: 0.8741 - val_accuracy: 0.7088\n",
            "Epoch 115/200\n",
            "62/62 [==============================] - 1s 14ms/step - loss: 0.3029 - accuracy: 0.8945 - val_loss: 0.9596 - val_accuracy: 0.7026\n",
            "Epoch 116/200\n",
            "62/62 [==============================] - 1s 14ms/step - loss: 0.2750 - accuracy: 0.9042 - val_loss: 0.9001 - val_accuracy: 0.7026\n",
            "Epoch 117/200\n",
            "62/62 [==============================] - 1s 14ms/step - loss: 0.2751 - accuracy: 0.9052 - val_loss: 0.9197 - val_accuracy: 0.7149\n",
            "Epoch 118/200\n",
            "62/62 [==============================] - 1s 14ms/step - loss: 0.2835 - accuracy: 0.9058 - val_loss: 0.8945 - val_accuracy: 0.7189\n",
            "Epoch 119/200\n",
            "62/62 [==============================] - 1s 14ms/step - loss: 0.3180 - accuracy: 0.8803 - val_loss: 0.8691 - val_accuracy: 0.7210\n",
            "Epoch 120/200\n",
            "62/62 [==============================] - 1s 14ms/step - loss: 0.2697 - accuracy: 0.8996 - val_loss: 0.8533 - val_accuracy: 0.7251\n",
            "Epoch 121/200\n",
            "62/62 [==============================] - 1s 14ms/step - loss: 0.2640 - accuracy: 0.9037 - val_loss: 0.8791 - val_accuracy: 0.7291\n",
            "Epoch 122/200\n",
            "62/62 [==============================] - 1s 14ms/step - loss: 0.2757 - accuracy: 0.9047 - val_loss: 0.8844 - val_accuracy: 0.7189\n",
            "Epoch 123/200\n",
            "62/62 [==============================] - 1s 14ms/step - loss: 0.2658 - accuracy: 0.9058 - val_loss: 0.9010 - val_accuracy: 0.7149\n",
            "Epoch 124/200\n",
            "62/62 [==============================] - 1s 14ms/step - loss: 0.2637 - accuracy: 0.9058 - val_loss: 0.9072 - val_accuracy: 0.7088\n",
            "Epoch 125/200\n",
            "62/62 [==============================] - 1s 14ms/step - loss: 0.2619 - accuracy: 0.9124 - val_loss: 0.9072 - val_accuracy: 0.7026\n",
            "Epoch 126/200\n",
            "62/62 [==============================] - 1s 14ms/step - loss: 0.2529 - accuracy: 0.9124 - val_loss: 0.8726 - val_accuracy: 0.7413\n",
            "Epoch 127/200\n",
            "62/62 [==============================] - 1s 14ms/step - loss: 0.2549 - accuracy: 0.9114 - val_loss: 0.8686 - val_accuracy: 0.7067\n",
            "Epoch 128/200\n",
            "62/62 [==============================] - 1s 14ms/step - loss: 0.2738 - accuracy: 0.9078 - val_loss: 0.8654 - val_accuracy: 0.7210\n",
            "Epoch 129/200\n",
            "62/62 [==============================] - 1s 14ms/step - loss: 0.2590 - accuracy: 0.9078 - val_loss: 0.9362 - val_accuracy: 0.7169\n",
            "Epoch 130/200\n",
            "62/62 [==============================] - 1s 16ms/step - loss: 0.2584 - accuracy: 0.9109 - val_loss: 0.8746 - val_accuracy: 0.7352\n",
            "Epoch 131/200\n",
            "62/62 [==============================] - 1s 14ms/step - loss: 0.2286 - accuracy: 0.9221 - val_loss: 0.9023 - val_accuracy: 0.7251\n",
            "Epoch 132/200\n",
            "62/62 [==============================] - 1s 14ms/step - loss: 0.2419 - accuracy: 0.9165 - val_loss: 0.9067 - val_accuracy: 0.7067\n",
            "Epoch 133/200\n",
            "62/62 [==============================] - 1s 14ms/step - loss: 0.2287 - accuracy: 0.9200 - val_loss: 1.0213 - val_accuracy: 0.7088\n",
            "Epoch 134/200\n",
            "62/62 [==============================] - 1s 14ms/step - loss: 0.2312 - accuracy: 0.9231 - val_loss: 0.8985 - val_accuracy: 0.7210\n",
            "Epoch 135/200\n",
            "62/62 [==============================] - 1s 14ms/step - loss: 0.2401 - accuracy: 0.9205 - val_loss: 1.0335 - val_accuracy: 0.7088\n",
            "Epoch 136/200\n",
            "62/62 [==============================] - 1s 14ms/step - loss: 0.2504 - accuracy: 0.9119 - val_loss: 0.9359 - val_accuracy: 0.7169\n",
            "Epoch 137/200\n",
            "62/62 [==============================] - 1s 14ms/step - loss: 0.2439 - accuracy: 0.9200 - val_loss: 0.9488 - val_accuracy: 0.7230\n",
            "Epoch 138/200\n",
            "62/62 [==============================] - 1s 14ms/step - loss: 0.2336 - accuracy: 0.9119 - val_loss: 0.8349 - val_accuracy: 0.7251\n",
            "Epoch 139/200\n",
            "62/62 [==============================] - 1s 14ms/step - loss: 0.2326 - accuracy: 0.9185 - val_loss: 0.9332 - val_accuracy: 0.7189\n",
            "Epoch 140/200\n",
            "62/62 [==============================] - 1s 15ms/step - loss: 0.2211 - accuracy: 0.9200 - val_loss: 2.5668 - val_accuracy: 0.4827\n",
            "Epoch 141/200\n",
            "62/62 [==============================] - 1s 14ms/step - loss: 0.2572 - accuracy: 0.9114 - val_loss: 0.9319 - val_accuracy: 0.7108\n",
            "Epoch 142/200\n",
            "62/62 [==============================] - 1s 14ms/step - loss: 0.2273 - accuracy: 0.9195 - val_loss: 0.9504 - val_accuracy: 0.7088\n",
            "Epoch 143/200\n",
            "62/62 [==============================] - 1s 14ms/step - loss: 0.2070 - accuracy: 0.9348 - val_loss: 0.9850 - val_accuracy: 0.7088\n",
            "Epoch 144/200\n",
            "62/62 [==============================] - 1s 14ms/step - loss: 0.2113 - accuracy: 0.9251 - val_loss: 0.8960 - val_accuracy: 0.7352\n",
            "Epoch 145/200\n",
            "62/62 [==============================] - 1s 14ms/step - loss: 0.2040 - accuracy: 0.9297 - val_loss: 0.9434 - val_accuracy: 0.7291\n",
            "Epoch 146/200\n",
            "62/62 [==============================] - 1s 14ms/step - loss: 0.2101 - accuracy: 0.9317 - val_loss: 0.8690 - val_accuracy: 0.7352\n",
            "Epoch 147/200\n",
            "62/62 [==============================] - 1s 14ms/step - loss: 0.1992 - accuracy: 0.9338 - val_loss: 0.9040 - val_accuracy: 0.7169\n",
            "Epoch 148/200\n",
            "62/62 [==============================] - 1s 14ms/step - loss: 0.2048 - accuracy: 0.9384 - val_loss: 0.9355 - val_accuracy: 0.7332\n",
            "Epoch 149/200\n",
            "62/62 [==============================] - 1s 14ms/step - loss: 0.2033 - accuracy: 0.9302 - val_loss: 0.9144 - val_accuracy: 0.7189\n",
            "Epoch 150/200\n",
            "62/62 [==============================] - 1s 14ms/step - loss: 0.1966 - accuracy: 0.9358 - val_loss: 0.9714 - val_accuracy: 0.7189\n",
            "Epoch 151/200\n",
            "62/62 [==============================] - 1s 15ms/step - loss: 0.2101 - accuracy: 0.9272 - val_loss: 0.8878 - val_accuracy: 0.7312\n",
            "Epoch 152/200\n",
            "62/62 [==============================] - 1s 15ms/step - loss: 0.1990 - accuracy: 0.9379 - val_loss: 0.8890 - val_accuracy: 0.7373\n",
            "Epoch 153/200\n",
            "62/62 [==============================] - 1s 15ms/step - loss: 0.1897 - accuracy: 0.9338 - val_loss: 0.8933 - val_accuracy: 0.7210\n",
            "Epoch 154/200\n",
            "62/62 [==============================] - 1s 14ms/step - loss: 0.2138 - accuracy: 0.9292 - val_loss: 0.9392 - val_accuracy: 0.7169\n",
            "Epoch 155/200\n",
            "62/62 [==============================] - 1s 14ms/step - loss: 0.2029 - accuracy: 0.9302 - val_loss: 0.9278 - val_accuracy: 0.7271\n",
            "Epoch 156/200\n",
            "62/62 [==============================] - 1s 14ms/step - loss: 0.1876 - accuracy: 0.9379 - val_loss: 0.9061 - val_accuracy: 0.7128\n",
            "Epoch 157/200\n",
            "62/62 [==============================] - 1s 14ms/step - loss: 0.1861 - accuracy: 0.9277 - val_loss: 0.9169 - val_accuracy: 0.7373\n",
            "Epoch 158/200\n",
            "62/62 [==============================] - 1s 14ms/step - loss: 0.1837 - accuracy: 0.9353 - val_loss: 0.9550 - val_accuracy: 0.7373\n",
            "Epoch 159/200\n",
            "62/62 [==============================] - 1s 14ms/step - loss: 0.1670 - accuracy: 0.9445 - val_loss: 0.8726 - val_accuracy: 0.7251\n",
            "Epoch 160/200\n",
            "62/62 [==============================] - 1s 15ms/step - loss: 0.1869 - accuracy: 0.9322 - val_loss: 0.9840 - val_accuracy: 0.7149\n",
            "Epoch 161/200\n",
            "62/62 [==============================] - 1s 14ms/step - loss: 0.1939 - accuracy: 0.9424 - val_loss: 0.9679 - val_accuracy: 0.7047\n",
            "Epoch 162/200\n",
            "62/62 [==============================] - 1s 15ms/step - loss: 0.1834 - accuracy: 0.9435 - val_loss: 0.9296 - val_accuracy: 0.7210\n",
            "Epoch 163/200\n",
            "62/62 [==============================] - 1s 14ms/step - loss: 0.1748 - accuracy: 0.9440 - val_loss: 0.8770 - val_accuracy: 0.7454\n",
            "Epoch 164/200\n",
            "62/62 [==============================] - 1s 14ms/step - loss: 0.1829 - accuracy: 0.9363 - val_loss: 0.8950 - val_accuracy: 0.7271\n",
            "Epoch 165/200\n",
            "62/62 [==============================] - 1s 14ms/step - loss: 0.1718 - accuracy: 0.9480 - val_loss: 0.9219 - val_accuracy: 0.7556\n",
            "Epoch 166/200\n",
            "62/62 [==============================] - 1s 14ms/step - loss: 0.1692 - accuracy: 0.9414 - val_loss: 1.0118 - val_accuracy: 0.7088\n",
            "Epoch 167/200\n",
            "62/62 [==============================] - 1s 14ms/step - loss: 0.1804 - accuracy: 0.9358 - val_loss: 0.9231 - val_accuracy: 0.7373\n",
            "Epoch 168/200\n",
            "62/62 [==============================] - 1s 14ms/step - loss: 0.1431 - accuracy: 0.9465 - val_loss: 0.9221 - val_accuracy: 0.7454\n",
            "Epoch 169/200\n",
            "62/62 [==============================] - 1s 14ms/step - loss: 0.1571 - accuracy: 0.9470 - val_loss: 0.8800 - val_accuracy: 0.7454\n",
            "Epoch 170/200\n",
            "62/62 [==============================] - 1s 14ms/step - loss: 0.1643 - accuracy: 0.9521 - val_loss: 0.9021 - val_accuracy: 0.7454\n",
            "Epoch 171/200\n",
            "62/62 [==============================] - 1s 14ms/step - loss: 0.1730 - accuracy: 0.9414 - val_loss: 0.9286 - val_accuracy: 0.7413\n",
            "Epoch 172/200\n",
            "62/62 [==============================] - 1s 14ms/step - loss: 0.1744 - accuracy: 0.9399 - val_loss: 0.9006 - val_accuracy: 0.7434\n",
            "Epoch 173/200\n",
            "62/62 [==============================] - 1s 14ms/step - loss: 0.1445 - accuracy: 0.9516 - val_loss: 0.9644 - val_accuracy: 0.7271\n",
            "Epoch 174/200\n",
            "62/62 [==============================] - 1s 14ms/step - loss: 0.1699 - accuracy: 0.9373 - val_loss: 0.8746 - val_accuracy: 0.7434\n",
            "Epoch 175/200\n",
            "62/62 [==============================] - 1s 14ms/step - loss: 0.1547 - accuracy: 0.9470 - val_loss: 0.9286 - val_accuracy: 0.7454\n",
            "Epoch 176/200\n",
            "62/62 [==============================] - 1s 14ms/step - loss: 0.1461 - accuracy: 0.9521 - val_loss: 0.8775 - val_accuracy: 0.7475\n",
            "Epoch 177/200\n",
            "62/62 [==============================] - 1s 14ms/step - loss: 0.1642 - accuracy: 0.9450 - val_loss: 0.8812 - val_accuracy: 0.7413\n",
            "Epoch 178/200\n",
            "62/62 [==============================] - 1s 14ms/step - loss: 0.1565 - accuracy: 0.9470 - val_loss: 0.9017 - val_accuracy: 0.7393\n",
            "Epoch 179/200\n",
            "62/62 [==============================] - 1s 14ms/step - loss: 0.1733 - accuracy: 0.9414 - val_loss: 0.8964 - val_accuracy: 0.7373\n",
            "Epoch 180/200\n",
            "62/62 [==============================] - 1s 14ms/step - loss: 0.1369 - accuracy: 0.9531 - val_loss: 0.8750 - val_accuracy: 0.7475\n",
            "Epoch 181/200\n",
            "62/62 [==============================] - 1s 14ms/step - loss: 0.1483 - accuracy: 0.9536 - val_loss: 0.8982 - val_accuracy: 0.7230\n",
            "Epoch 182/200\n",
            "62/62 [==============================] - 1s 14ms/step - loss: 0.1238 - accuracy: 0.9592 - val_loss: 0.9094 - val_accuracy: 0.7495\n",
            "Epoch 183/200\n",
            "62/62 [==============================] - 1s 14ms/step - loss: 0.1576 - accuracy: 0.9531 - val_loss: 0.8781 - val_accuracy: 0.7576\n",
            "Epoch 184/200\n",
            "62/62 [==============================] - 1s 14ms/step - loss: 0.1483 - accuracy: 0.9429 - val_loss: 0.9775 - val_accuracy: 0.7312\n",
            "Epoch 185/200\n",
            "62/62 [==============================] - 1s 14ms/step - loss: 0.1427 - accuracy: 0.9562 - val_loss: 0.8759 - val_accuracy: 0.7556\n",
            "Epoch 186/200\n",
            "62/62 [==============================] - 1s 14ms/step - loss: 0.1315 - accuracy: 0.9521 - val_loss: 0.8736 - val_accuracy: 0.7434\n",
            "Epoch 187/200\n",
            "62/62 [==============================] - 1s 14ms/step - loss: 0.1257 - accuracy: 0.9592 - val_loss: 0.9727 - val_accuracy: 0.7332\n",
            "Epoch 188/200\n",
            "62/62 [==============================] - 1s 14ms/step - loss: 0.1402 - accuracy: 0.9552 - val_loss: 0.9169 - val_accuracy: 0.7617\n",
            "Epoch 189/200\n",
            "62/62 [==============================] - 1s 14ms/step - loss: 0.1373 - accuracy: 0.9547 - val_loss: 0.9249 - val_accuracy: 0.7434\n",
            "Epoch 190/200\n",
            "62/62 [==============================] - 1s 14ms/step - loss: 0.1237 - accuracy: 0.9618 - val_loss: 0.9505 - val_accuracy: 0.7413\n",
            "Epoch 191/200\n",
            "62/62 [==============================] - 1s 14ms/step - loss: 0.1260 - accuracy: 0.9587 - val_loss: 0.9362 - val_accuracy: 0.7434\n",
            "Epoch 192/200\n",
            "62/62 [==============================] - 1s 14ms/step - loss: 0.1397 - accuracy: 0.9526 - val_loss: 0.9528 - val_accuracy: 0.7373\n",
            "Epoch 193/200\n",
            "62/62 [==============================] - 1s 14ms/step - loss: 0.1225 - accuracy: 0.9577 - val_loss: 0.9018 - val_accuracy: 0.7556\n",
            "Epoch 194/200\n",
            "62/62 [==============================] - 1s 14ms/step - loss: 0.1398 - accuracy: 0.9511 - val_loss: 1.0913 - val_accuracy: 0.6864\n",
            "Epoch 195/200\n",
            "62/62 [==============================] - 1s 14ms/step - loss: 0.1565 - accuracy: 0.9475 - val_loss: 0.9007 - val_accuracy: 0.7454\n",
            "Epoch 196/200\n",
            "62/62 [==============================] - 1s 14ms/step - loss: 0.1170 - accuracy: 0.9618 - val_loss: 0.9470 - val_accuracy: 0.7515\n",
            "Epoch 197/200\n",
            "62/62 [==============================] - 1s 14ms/step - loss: 0.1265 - accuracy: 0.9608 - val_loss: 0.9377 - val_accuracy: 0.7495\n",
            "Epoch 198/200\n",
            "62/62 [==============================] - 1s 14ms/step - loss: 0.1201 - accuracy: 0.9608 - val_loss: 0.9541 - val_accuracy: 0.7495\n",
            "Epoch 199/200\n",
            "62/62 [==============================] - 1s 14ms/step - loss: 0.1206 - accuracy: 0.9598 - val_loss: 0.9125 - val_accuracy: 0.7475\n",
            "Epoch 200/200\n",
            "62/62 [==============================] - 1s 14ms/step - loss: 0.1288 - accuracy: 0.9587 - val_loss: 0.9224 - val_accuracy: 0.7434\n"
          ]
        }
      ]
    },
    {
      "cell_type": "code",
      "metadata": {
        "colab": {
          "base_uri": "https://localhost:8080/",
          "height": 295
        },
        "id": "fME9qr_sXyzU",
        "outputId": "d99a7e3a-ab61-4a5b-f5be-29a180c58955"
      },
      "source": [
        "plt.plot(cnnhistory.history['accuracy'])\n",
        "plt.plot(cnnhistory.history['val_accuracy'])\n",
        "plt.title('model accuracy')\n",
        "plt.ylabel('accuracy')\n",
        "plt.xlabel('epoch')\n",
        "plt.legend(['train', 'validation'], loc='upper left')\n",
        "plt.show()"
      ],
      "execution_count": null,
      "outputs": [
        {
          "output_type": "display_data",
          "data": {
            "image/png": "[encoded data removed]",
            "text/plain": [
              "<Figure size 432x288 with 1 Axes>"
            ]
          },
          "metadata": {
            "needs_background": "light"
          }
        }
      ]
    },
    {
      "cell_type": "code",
      "metadata": {
        "colab": {
          "base_uri": "https://localhost:8080/",
          "height": 295
        },
        "id": "MdR-A4tuYEX-",
        "outputId": "c1482636-d2ab-4428-dad5-e26e9013bfca"
      },
      "source": [
        "plt.plot(cnnhistory.history['loss'])\n",
        "plt.plot(cnnhistory.history['val_loss'])\n",
        "plt.title('model loss')\n",
        "plt.ylabel('loss')\n",
        "plt.xlabel('epoch')\n",
        "plt.legend(['train', 'validation'], loc='upper left')\n",
        "plt.show()"
      ],
      "execution_count": null,
      "outputs": [
        {
          "output_type": "display_data",
          "data": {
            "image/png": "[encoded data removed]",
            "text/plain": [
              "<Figure size 432x288 with 1 Axes>"
            ]
          },
          "metadata": {
            "needs_background": "light"
          }
        }
      ]
    },
    {
      "cell_type": "code",
      "metadata": {
        "colab": {
          "base_uri": "https://localhost:8080/"
        },
        "id": "sO-bNsXXZUZu",
        "outputId": "e41d56fe-84ce-4e68-b161-baa2451d40a5"
      },
      "source": [
        "model = Sequential()\n",
        "model.add(Conv1D(64, 5, activation='relu', input_shape=(40,1)))\n",
        "model.add(Conv1D(128, 5,activation='relu'))\n",
        "model.add(MaxPooling1D(pool_size=(8)))\n",
        "model.add(Dropout(0.2))\n",
        "model.add(Flatten())\n",
        "model.add(Dense(256, activation='relu'))\n",
        "model.add(Dropout(0.2))\n",
        "model.add(Dense(8, activation='softmax'))\n",
        "opt = tf.keras.optimizers.Adam(lr=0.0001)\n",
        "model.compile(loss='categorical_crossentropy', optimizer=opt,metrics=['accuracy'])\n",
        "model.summary()"
      ],
      "execution_count": null,
      "outputs": [
        {
          "output_type": "stream",
          "name": "stdout",
          "text": [
            "Model: \"sequential_2\"\n",
            "_________________________________________________________________\n",
            "Layer (type)                 Output Shape              Param #   \n",
            "=================================================================\n",
            "conv1d_4 (Conv1D)            (None, 36, 64)            384       \n",
            "_________________________________________________________________\n",
            "conv1d_5 (Conv1D)            (None, 32, 128)           41088     \n",
            "_________________________________________________________________\n",
            "max_pooling1d_2 (MaxPooling1 (None, 4, 128)            0         \n",
            "_________________________________________________________________\n",
            "dropout_4 (Dropout)          (None, 4, 128)            0         \n",
            "_________________________________________________________________\n",
            "flatten_2 (Flatten)          (None, 512)               0         \n",
            "_________________________________________________________________\n",
            "dense_4 (Dense)              (None, 256)               131328    \n",
            "_________________________________________________________________\n",
            "dropout_5 (Dropout)          (None, 256)               0         \n",
            "_________________________________________________________________\n",
            "dense_5 (Dense)              (None, 8)                 2056      \n",
            "=================================================================\n",
            "Total params: 174,856\n",
            "Trainable params: 174,856\n",
            "Non-trainable params: 0\n",
            "_________________________________________________________________\n"
          ]
        },
        {
          "output_type": "stream",
          "name": "stderr",
          "text": [
            "/usr/local/lib/python3.7/dist-packages/keras/optimizer_v2/optimizer_v2.py:356: UserWarning: The `lr` argument is deprecated, use `learning_rate` instead.\n",
            "  \"The `lr` argument is deprecated, use `learning_rate` instead.\")\n"
          ]
        }
      ]
    },
    {
      "cell_type": "markdown",
      "metadata": {
        "id": "_EnOpUXIbcpx"
      },
      "source": [
        "####Using Adam Optimizer"
      ]
    },
    {
      "cell_type": "code",
      "metadata": {
        "id": "aAJOfa04Zn9S"
      },
      "source": [
        "model.compile(loss='sparse_categorical_crossentropy',\n",
        "              optimizer=opt,\n",
        "              metrics=['accuracy'])\n",
        "import numpy as np\n",
        "x_traincnn = np.expand_dims(X_train, axis=2)\n",
        "x_testcnn = np.expand_dims(X_test, axis=2)"
      ],
      "execution_count": null,
      "outputs": []
    },
    {
      "cell_type": "code",
      "metadata": {
        "colab": {
          "base_uri": "https://localhost:8080/"
        },
        "id": "v8lyY1_sZ1PD",
        "outputId": "dfe541ed-53b4-40d7-cf38-d79dfbb65867"
      },
      "source": [
        "x_traincnn=np.array(x_traincnn)\n",
        "y_train=np.array(y_train)\n",
        "x_testcnn=np.array(x_testcnn)\n",
        "y_test=np.array(y_test)\n",
        "cnnhistory=model.fit(x_traincnn, y_train, batch_size=32, epochs=200, validation_data=(x_testcnn, y_test))"
      ],
      "execution_count": null,
      "outputs": [
        {
          "output_type": "stream",
          "name": "stdout",
          "text": [
            "Epoch 1/200\n",
            "62/62 [==============================] - 1s 15ms/step - loss: 0.1711 - accuracy: 0.9435 - val_loss: 0.8284 - val_accuracy: 0.7271\n",
            "Epoch 2/200\n",
            "62/62 [==============================] - 1s 14ms/step - loss: 0.1826 - accuracy: 0.9409 - val_loss: 0.8220 - val_accuracy: 0.7189\n",
            "Epoch 3/200\n",
            "62/62 [==============================] - 1s 14ms/step - loss: 0.1586 - accuracy: 0.9536 - val_loss: 0.8356 - val_accuracy: 0.7271\n",
            "Epoch 4/200\n",
            "62/62 [==============================] - 1s 14ms/step - loss: 0.1531 - accuracy: 0.9531 - val_loss: 0.8510 - val_accuracy: 0.7312\n",
            "Epoch 5/200\n",
            "62/62 [==============================] - 1s 14ms/step - loss: 0.1596 - accuracy: 0.9485 - val_loss: 0.8274 - val_accuracy: 0.7352\n",
            "Epoch 6/200\n",
            "62/62 [==============================] - 1s 14ms/step - loss: 0.1618 - accuracy: 0.9547 - val_loss: 0.8263 - val_accuracy: 0.7434\n",
            "Epoch 7/200\n",
            "62/62 [==============================] - 1s 14ms/step - loss: 0.1582 - accuracy: 0.9552 - val_loss: 0.8280 - val_accuracy: 0.7373\n",
            "Epoch 8/200\n",
            "62/62 [==============================] - 1s 14ms/step - loss: 0.1541 - accuracy: 0.9531 - val_loss: 0.8378 - val_accuracy: 0.7454\n",
            "Epoch 9/200\n",
            "62/62 [==============================] - 1s 15ms/step - loss: 0.1597 - accuracy: 0.9536 - val_loss: 0.8376 - val_accuracy: 0.7434\n",
            "Epoch 10/200\n",
            "62/62 [==============================] - 1s 14ms/step - loss: 0.1646 - accuracy: 0.9526 - val_loss: 0.8304 - val_accuracy: 0.7373\n",
            "Epoch 11/200\n",
            "62/62 [==============================] - 1s 14ms/step - loss: 0.1577 - accuracy: 0.9511 - val_loss: 0.8045 - val_accuracy: 0.7454\n",
            "Epoch 12/200\n",
            "62/62 [==============================] - 1s 14ms/step - loss: 0.1384 - accuracy: 0.9567 - val_loss: 0.8046 - val_accuracy: 0.7556\n",
            "Epoch 13/200\n",
            "62/62 [==============================] - 1s 14ms/step - loss: 0.1432 - accuracy: 0.9582 - val_loss: 0.8295 - val_accuracy: 0.7454\n",
            "Epoch 14/200\n",
            "62/62 [==============================] - 1s 14ms/step - loss: 0.1328 - accuracy: 0.9643 - val_loss: 0.8337 - val_accuracy: 0.7454\n",
            "Epoch 15/200\n",
            "62/62 [==============================] - 1s 14ms/step - loss: 0.1401 - accuracy: 0.9567 - val_loss: 0.8328 - val_accuracy: 0.7352\n",
            "Epoch 16/200\n",
            "62/62 [==============================] - 1s 14ms/step - loss: 0.1601 - accuracy: 0.9465 - val_loss: 0.9020 - val_accuracy: 0.7434\n",
            "Epoch 17/200\n",
            "62/62 [==============================] - 1s 14ms/step - loss: 0.1560 - accuracy: 0.9475 - val_loss: 0.8570 - val_accuracy: 0.7393\n",
            "Epoch 18/200\n",
            "62/62 [==============================] - 1s 14ms/step - loss: 0.1383 - accuracy: 0.9592 - val_loss: 0.8494 - val_accuracy: 0.7393\n",
            "Epoch 19/200\n",
            "62/62 [==============================] - 1s 14ms/step - loss: 0.1291 - accuracy: 0.9643 - val_loss: 0.8534 - val_accuracy: 0.7413\n",
            "Epoch 20/200\n",
            "62/62 [==============================] - 1s 14ms/step - loss: 0.1537 - accuracy: 0.9511 - val_loss: 0.8574 - val_accuracy: 0.7475\n",
            "Epoch 21/200\n",
            "62/62 [==============================] - 1s 15ms/step - loss: 0.1526 - accuracy: 0.9511 - val_loss: 0.8321 - val_accuracy: 0.7393\n",
            "Epoch 22/200\n",
            "62/62 [==============================] - 1s 14ms/step - loss: 0.1379 - accuracy: 0.9592 - val_loss: 0.8385 - val_accuracy: 0.7454\n",
            "Epoch 23/200\n",
            "62/62 [==============================] - 1s 15ms/step - loss: 0.1146 - accuracy: 0.9705 - val_loss: 0.8322 - val_accuracy: 0.7454\n",
            "Epoch 24/200\n",
            "62/62 [==============================] - 1s 14ms/step - loss: 0.1344 - accuracy: 0.9598 - val_loss: 0.8452 - val_accuracy: 0.7434\n",
            "Epoch 25/200\n",
            "62/62 [==============================] - 1s 14ms/step - loss: 0.1296 - accuracy: 0.9638 - val_loss: 0.8386 - val_accuracy: 0.7413\n",
            "Epoch 26/200\n",
            "62/62 [==============================] - 1s 14ms/step - loss: 0.1398 - accuracy: 0.9536 - val_loss: 0.8259 - val_accuracy: 0.7515\n",
            "Epoch 27/200\n",
            "62/62 [==============================] - 1s 14ms/step - loss: 0.1378 - accuracy: 0.9557 - val_loss: 0.8543 - val_accuracy: 0.7454\n",
            "Epoch 28/200\n",
            "62/62 [==============================] - 1s 14ms/step - loss: 0.1314 - accuracy: 0.9623 - val_loss: 0.8272 - val_accuracy: 0.7434\n",
            "Epoch 29/200\n",
            "62/62 [==============================] - 1s 14ms/step - loss: 0.1303 - accuracy: 0.9659 - val_loss: 0.8613 - val_accuracy: 0.7475\n",
            "Epoch 30/200\n",
            "62/62 [==============================] - 1s 14ms/step - loss: 0.1195 - accuracy: 0.9674 - val_loss: 0.8848 - val_accuracy: 0.7393\n",
            "Epoch 31/200\n",
            "62/62 [==============================] - 1s 14ms/step - loss: 0.1237 - accuracy: 0.9603 - val_loss: 0.8495 - val_accuracy: 0.7434\n",
            "Epoch 32/200\n",
            "62/62 [==============================] - 1s 14ms/step - loss: 0.1245 - accuracy: 0.9654 - val_loss: 0.8534 - val_accuracy: 0.7576\n",
            "Epoch 33/200\n",
            "62/62 [==============================] - 1s 14ms/step - loss: 0.1298 - accuracy: 0.9623 - val_loss: 0.8458 - val_accuracy: 0.7454\n",
            "Epoch 34/200\n",
            "62/62 [==============================] - 1s 14ms/step - loss: 0.1336 - accuracy: 0.9592 - val_loss: 0.8552 - val_accuracy: 0.7454\n",
            "Epoch 35/200\n",
            "62/62 [==============================] - 1s 14ms/step - loss: 0.1184 - accuracy: 0.9643 - val_loss: 0.8508 - val_accuracy: 0.7495\n",
            "Epoch 36/200\n",
            "62/62 [==============================] - 1s 14ms/step - loss: 0.1275 - accuracy: 0.9633 - val_loss: 0.8748 - val_accuracy: 0.7413\n",
            "Epoch 37/200\n",
            "62/62 [==============================] - 1s 14ms/step - loss: 0.1161 - accuracy: 0.9613 - val_loss: 0.8457 - val_accuracy: 0.7475\n",
            "Epoch 38/200\n",
            "62/62 [==============================] - 1s 14ms/step - loss: 0.1131 - accuracy: 0.9710 - val_loss: 0.8736 - val_accuracy: 0.7312\n",
            "Epoch 39/200\n",
            "62/62 [==============================] - 1s 14ms/step - loss: 0.1179 - accuracy: 0.9648 - val_loss: 0.8662 - val_accuracy: 0.7495\n",
            "Epoch 40/200\n",
            "62/62 [==============================] - 1s 15ms/step - loss: 0.1075 - accuracy: 0.9699 - val_loss: 0.8496 - val_accuracy: 0.7576\n",
            "Epoch 41/200\n",
            "62/62 [==============================] - 1s 14ms/step - loss: 0.1154 - accuracy: 0.9674 - val_loss: 0.8673 - val_accuracy: 0.7454\n",
            "Epoch 42/200\n",
            "62/62 [==============================] - 1s 14ms/step - loss: 0.1162 - accuracy: 0.9664 - val_loss: 0.8678 - val_accuracy: 0.7413\n",
            "Epoch 43/200\n",
            "62/62 [==============================] - 1s 15ms/step - loss: 0.1139 - accuracy: 0.9643 - val_loss: 0.8518 - val_accuracy: 0.7434\n",
            "Epoch 44/200\n",
            "62/62 [==============================] - 1s 15ms/step - loss: 0.1109 - accuracy: 0.9684 - val_loss: 0.8166 - val_accuracy: 0.7597\n",
            "Epoch 45/200\n",
            "62/62 [==============================] - 1s 14ms/step - loss: 0.1025 - accuracy: 0.9720 - val_loss: 0.8512 - val_accuracy: 0.7597\n",
            "Epoch 46/200\n",
            "62/62 [==============================] - 1s 14ms/step - loss: 0.1243 - accuracy: 0.9623 - val_loss: 0.8221 - val_accuracy: 0.7515\n",
            "Epoch 47/200\n",
            "62/62 [==============================] - 1s 14ms/step - loss: 0.1036 - accuracy: 0.9735 - val_loss: 0.8430 - val_accuracy: 0.7475\n",
            "Epoch 48/200\n",
            "62/62 [==============================] - 1s 14ms/step - loss: 0.1134 - accuracy: 0.9638 - val_loss: 0.8487 - val_accuracy: 0.7413\n",
            "Epoch 49/200\n",
            "62/62 [==============================] - 1s 14ms/step - loss: 0.1060 - accuracy: 0.9720 - val_loss: 0.8282 - val_accuracy: 0.7556\n",
            "Epoch 50/200\n",
            "62/62 [==============================] - 1s 14ms/step - loss: 0.0993 - accuracy: 0.9740 - val_loss: 0.8514 - val_accuracy: 0.7454\n",
            "Epoch 51/200\n",
            "62/62 [==============================] - 1s 15ms/step - loss: 0.0956 - accuracy: 0.9740 - val_loss: 0.8662 - val_accuracy: 0.7536\n",
            "Epoch 52/200\n",
            "62/62 [==============================] - 1s 14ms/step - loss: 0.1062 - accuracy: 0.9710 - val_loss: 0.8920 - val_accuracy: 0.7515\n",
            "Epoch 53/200\n",
            "62/62 [==============================] - 1s 14ms/step - loss: 0.0993 - accuracy: 0.9699 - val_loss: 0.8770 - val_accuracy: 0.7556\n",
            "Epoch 54/200\n",
            "62/62 [==============================] - 1s 15ms/step - loss: 0.1084 - accuracy: 0.9684 - val_loss: 0.8587 - val_accuracy: 0.7536\n",
            "Epoch 55/200\n",
            "62/62 [==============================] - 1s 15ms/step - loss: 0.1119 - accuracy: 0.9689 - val_loss: 0.8452 - val_accuracy: 0.7576\n",
            "Epoch 56/200\n",
            "62/62 [==============================] - 1s 14ms/step - loss: 0.1001 - accuracy: 0.9730 - val_loss: 0.8538 - val_accuracy: 0.7597\n",
            "Epoch 57/200\n",
            "62/62 [==============================] - 1s 14ms/step - loss: 0.1038 - accuracy: 0.9705 - val_loss: 0.8733 - val_accuracy: 0.7475\n",
            "Epoch 58/200\n",
            "62/62 [==============================] - 1s 15ms/step - loss: 0.1095 - accuracy: 0.9603 - val_loss: 0.8880 - val_accuracy: 0.7536\n",
            "Epoch 59/200\n",
            "62/62 [==============================] - 1s 15ms/step - loss: 0.1097 - accuracy: 0.9720 - val_loss: 0.8417 - val_accuracy: 0.7515\n",
            "Epoch 60/200\n",
            "62/62 [==============================] - 1s 14ms/step - loss: 0.1010 - accuracy: 0.9664 - val_loss: 0.8257 - val_accuracy: 0.7576\n",
            "Epoch 61/200\n",
            "62/62 [==============================] - 1s 15ms/step - loss: 0.1096 - accuracy: 0.9654 - val_loss: 0.8394 - val_accuracy: 0.7515\n",
            "Epoch 62/200\n",
            "62/62 [==============================] - 1s 15ms/step - loss: 0.1017 - accuracy: 0.9699 - val_loss: 0.8454 - val_accuracy: 0.7434\n",
            "Epoch 63/200\n",
            "62/62 [==============================] - 1s 14ms/step - loss: 0.0846 - accuracy: 0.9761 - val_loss: 0.8516 - val_accuracy: 0.7597\n",
            "Epoch 64/200\n",
            "62/62 [==============================] - 1s 14ms/step - loss: 0.0992 - accuracy: 0.9715 - val_loss: 0.9076 - val_accuracy: 0.7413\n",
            "Epoch 65/200\n",
            "62/62 [==============================] - 1s 14ms/step - loss: 0.0917 - accuracy: 0.9750 - val_loss: 0.8795 - val_accuracy: 0.7515\n",
            "Epoch 66/200\n",
            "62/62 [==============================] - 1s 15ms/step - loss: 0.0958 - accuracy: 0.9720 - val_loss: 0.8331 - val_accuracy: 0.7556\n",
            "Epoch 67/200\n",
            "62/62 [==============================] - 1s 14ms/step - loss: 0.0933 - accuracy: 0.9710 - val_loss: 0.9187 - val_accuracy: 0.7373\n",
            "Epoch 68/200\n",
            "62/62 [==============================] - 1s 14ms/step - loss: 0.1043 - accuracy: 0.9684 - val_loss: 0.8454 - val_accuracy: 0.7495\n",
            "Epoch 69/200\n",
            "62/62 [==============================] - 1s 14ms/step - loss: 0.0874 - accuracy: 0.9761 - val_loss: 0.8660 - val_accuracy: 0.7515\n",
            "Epoch 70/200\n",
            "62/62 [==============================] - 1s 15ms/step - loss: 0.0985 - accuracy: 0.9715 - val_loss: 0.8672 - val_accuracy: 0.7393\n",
            "Epoch 71/200\n",
            "62/62 [==============================] - 1s 15ms/step - loss: 0.0895 - accuracy: 0.9715 - val_loss: 0.8565 - val_accuracy: 0.7515\n",
            "Epoch 72/200\n",
            "62/62 [==============================] - 1s 15ms/step - loss: 0.0812 - accuracy: 0.9766 - val_loss: 0.8806 - val_accuracy: 0.7597\n",
            "Epoch 73/200\n",
            "62/62 [==============================] - 1s 15ms/step - loss: 0.0948 - accuracy: 0.9710 - val_loss: 0.8723 - val_accuracy: 0.7515\n",
            "Epoch 74/200\n",
            "62/62 [==============================] - 1s 14ms/step - loss: 0.0943 - accuracy: 0.9735 - val_loss: 0.8882 - val_accuracy: 0.7556\n",
            "Epoch 75/200\n",
            "62/62 [==============================] - 1s 14ms/step - loss: 0.0877 - accuracy: 0.9766 - val_loss: 0.9056 - val_accuracy: 0.7312\n",
            "Epoch 76/200\n",
            "62/62 [==============================] - 1s 14ms/step - loss: 0.0913 - accuracy: 0.9730 - val_loss: 0.9026 - val_accuracy: 0.7413\n",
            "Epoch 77/200\n",
            "62/62 [==============================] - 1s 14ms/step - loss: 0.1025 - accuracy: 0.9694 - val_loss: 0.8699 - val_accuracy: 0.7556\n",
            "Epoch 78/200\n",
            "62/62 [==============================] - 1s 14ms/step - loss: 0.0799 - accuracy: 0.9796 - val_loss: 0.8865 - val_accuracy: 0.7536\n",
            "Epoch 79/200\n",
            "62/62 [==============================] - 1s 14ms/step - loss: 0.0783 - accuracy: 0.9776 - val_loss: 0.8675 - val_accuracy: 0.7576\n",
            "Epoch 80/200\n",
            "62/62 [==============================] - 1s 14ms/step - loss: 0.0782 - accuracy: 0.9781 - val_loss: 0.8615 - val_accuracy: 0.7454\n",
            "Epoch 81/200\n",
            "62/62 [==============================] - 1s 15ms/step - loss: 0.1038 - accuracy: 0.9689 - val_loss: 0.8121 - val_accuracy: 0.7617\n",
            "Epoch 82/200\n",
            "62/62 [==============================] - 1s 15ms/step - loss: 0.0760 - accuracy: 0.9796 - val_loss: 0.8603 - val_accuracy: 0.7658\n",
            "Epoch 83/200\n",
            "62/62 [==============================] - 1s 14ms/step - loss: 0.0891 - accuracy: 0.9745 - val_loss: 0.8578 - val_accuracy: 0.7495\n",
            "Epoch 84/200\n",
            "62/62 [==============================] - 1s 14ms/step - loss: 0.0804 - accuracy: 0.9786 - val_loss: 0.8604 - val_accuracy: 0.7597\n",
            "Epoch 85/200\n",
            "62/62 [==============================] - 1s 14ms/step - loss: 0.0745 - accuracy: 0.9786 - val_loss: 0.8733 - val_accuracy: 0.7515\n",
            "Epoch 86/200\n",
            "62/62 [==============================] - 1s 14ms/step - loss: 0.0834 - accuracy: 0.9771 - val_loss: 0.8844 - val_accuracy: 0.7637\n",
            "Epoch 87/200\n",
            "62/62 [==============================] - 1s 15ms/step - loss: 0.0667 - accuracy: 0.9847 - val_loss: 0.8490 - val_accuracy: 0.7495\n",
            "Epoch 88/200\n",
            "62/62 [==============================] - 1s 15ms/step - loss: 0.0727 - accuracy: 0.9817 - val_loss: 0.8692 - val_accuracy: 0.7536\n",
            "Epoch 89/200\n",
            "62/62 [==============================] - 1s 15ms/step - loss: 0.0739 - accuracy: 0.9776 - val_loss: 0.8775 - val_accuracy: 0.7515\n",
            "Epoch 90/200\n",
            "62/62 [==============================] - 1s 14ms/step - loss: 0.0799 - accuracy: 0.9771 - val_loss: 0.8960 - val_accuracy: 0.7393\n",
            "Epoch 91/200\n",
            "62/62 [==============================] - 1s 14ms/step - loss: 0.0691 - accuracy: 0.9806 - val_loss: 0.8955 - val_accuracy: 0.7495\n",
            "Epoch 92/200\n",
            "62/62 [==============================] - 1s 14ms/step - loss: 0.0821 - accuracy: 0.9766 - val_loss: 0.8506 - val_accuracy: 0.7637\n",
            "Epoch 93/200\n",
            "62/62 [==============================] - 1s 15ms/step - loss: 0.0727 - accuracy: 0.9776 - val_loss: 0.8839 - val_accuracy: 0.7495\n",
            "Epoch 94/200\n",
            "62/62 [==============================] - 1s 14ms/step - loss: 0.0736 - accuracy: 0.9796 - val_loss: 0.8842 - val_accuracy: 0.7556\n",
            "Epoch 95/200\n",
            "62/62 [==============================] - 1s 15ms/step - loss: 0.0773 - accuracy: 0.9806 - val_loss: 0.8464 - val_accuracy: 0.7699\n",
            "Epoch 96/200\n",
            "62/62 [==============================] - 1s 15ms/step - loss: 0.0815 - accuracy: 0.9781 - val_loss: 0.8545 - val_accuracy: 0.7576\n",
            "Epoch 97/200\n",
            "62/62 [==============================] - 1s 15ms/step - loss: 0.0760 - accuracy: 0.9806 - val_loss: 0.8870 - val_accuracy: 0.7576\n",
            "Epoch 98/200\n",
            "62/62 [==============================] - 1s 14ms/step - loss: 0.0797 - accuracy: 0.9771 - val_loss: 0.8634 - val_accuracy: 0.7536\n",
            "Epoch 99/200\n",
            "62/62 [==============================] - 1s 15ms/step - loss: 0.0667 - accuracy: 0.9842 - val_loss: 0.8950 - val_accuracy: 0.7556\n",
            "Epoch 100/200\n",
            "62/62 [==============================] - 1s 14ms/step - loss: 0.0628 - accuracy: 0.9837 - val_loss: 0.9002 - val_accuracy: 0.7617\n",
            "Epoch 101/200\n",
            "62/62 [==============================] - 1s 15ms/step - loss: 0.0766 - accuracy: 0.9761 - val_loss: 0.8758 - val_accuracy: 0.7515\n",
            "Epoch 102/200\n",
            "62/62 [==============================] - 1s 15ms/step - loss: 0.0770 - accuracy: 0.9771 - val_loss: 0.8952 - val_accuracy: 0.7597\n",
            "Epoch 103/200\n",
            "62/62 [==============================] - 1s 15ms/step - loss: 0.0689 - accuracy: 0.9796 - val_loss: 0.8870 - val_accuracy: 0.7617\n",
            "Epoch 104/200\n",
            "62/62 [==============================] - 1s 14ms/step - loss: 0.0636 - accuracy: 0.9832 - val_loss: 0.8923 - val_accuracy: 0.7597\n",
            "Epoch 105/200\n",
            "62/62 [==============================] - 1s 15ms/step - loss: 0.0655 - accuracy: 0.9837 - val_loss: 0.9240 - val_accuracy: 0.7352\n",
            "Epoch 106/200\n",
            "62/62 [==============================] - 1s 15ms/step - loss: 0.0641 - accuracy: 0.9796 - val_loss: 0.8915 - val_accuracy: 0.7434\n",
            "Epoch 107/200\n",
            "62/62 [==============================] - 1s 15ms/step - loss: 0.0842 - accuracy: 0.9766 - val_loss: 0.8990 - val_accuracy: 0.7556\n",
            "Epoch 108/200\n",
            "62/62 [==============================] - 1s 15ms/step - loss: 0.0613 - accuracy: 0.9857 - val_loss: 0.8820 - val_accuracy: 0.7597\n",
            "Epoch 109/200\n",
            "62/62 [==============================] - 1s 14ms/step - loss: 0.0641 - accuracy: 0.9822 - val_loss: 0.9358 - val_accuracy: 0.7597\n",
            "Epoch 110/200\n",
            "62/62 [==============================] - 1s 14ms/step - loss: 0.0744 - accuracy: 0.9801 - val_loss: 0.9325 - val_accuracy: 0.7475\n",
            "Epoch 111/200\n",
            "62/62 [==============================] - 1s 14ms/step - loss: 0.0674 - accuracy: 0.9812 - val_loss: 0.9150 - val_accuracy: 0.7475\n",
            "Epoch 112/200\n",
            "62/62 [==============================] - 1s 15ms/step - loss: 0.0744 - accuracy: 0.9781 - val_loss: 0.8713 - val_accuracy: 0.7678\n",
            "Epoch 113/200\n",
            "62/62 [==============================] - 1s 14ms/step - loss: 0.0607 - accuracy: 0.9832 - val_loss: 0.9150 - val_accuracy: 0.7475\n",
            "Epoch 114/200\n",
            "62/62 [==============================] - 1s 15ms/step - loss: 0.0710 - accuracy: 0.9776 - val_loss: 0.8669 - val_accuracy: 0.7658\n",
            "Epoch 115/200\n",
            "62/62 [==============================] - 1s 14ms/step - loss: 0.0623 - accuracy: 0.9827 - val_loss: 0.8997 - val_accuracy: 0.7617\n",
            "Epoch 116/200\n",
            "62/62 [==============================] - 1s 15ms/step - loss: 0.0624 - accuracy: 0.9817 - val_loss: 0.9069 - val_accuracy: 0.7597\n",
            "Epoch 117/200\n",
            "62/62 [==============================] - 1s 14ms/step - loss: 0.0685 - accuracy: 0.9806 - val_loss: 0.9033 - val_accuracy: 0.7637\n",
            "Epoch 118/200\n",
            "62/62 [==============================] - 1s 14ms/step - loss: 0.0645 - accuracy: 0.9832 - val_loss: 0.8710 - val_accuracy: 0.7699\n",
            "Epoch 119/200\n",
            "62/62 [==============================] - 1s 14ms/step - loss: 0.0628 - accuracy: 0.9796 - val_loss: 0.8971 - val_accuracy: 0.7556\n",
            "Epoch 120/200\n",
            "62/62 [==============================] - 1s 15ms/step - loss: 0.0633 - accuracy: 0.9842 - val_loss: 0.8826 - val_accuracy: 0.7536\n",
            "Epoch 121/200\n",
            "62/62 [==============================] - 1s 15ms/step - loss: 0.0520 - accuracy: 0.9898 - val_loss: 0.9242 - val_accuracy: 0.7454\n",
            "Epoch 122/200\n",
            "62/62 [==============================] - 1s 14ms/step - loss: 0.0575 - accuracy: 0.9852 - val_loss: 0.9180 - val_accuracy: 0.7699\n",
            "Epoch 123/200\n",
            "62/62 [==============================] - 1s 14ms/step - loss: 0.0579 - accuracy: 0.9827 - val_loss: 0.8934 - val_accuracy: 0.7637\n",
            "Epoch 124/200\n",
            "62/62 [==============================] - 1s 14ms/step - loss: 0.0623 - accuracy: 0.9832 - val_loss: 0.9240 - val_accuracy: 0.7556\n",
            "Epoch 125/200\n",
            "62/62 [==============================] - 1s 15ms/step - loss: 0.0672 - accuracy: 0.9801 - val_loss: 0.9615 - val_accuracy: 0.7413\n",
            "Epoch 126/200\n",
            "62/62 [==============================] - 1s 14ms/step - loss: 0.0574 - accuracy: 0.9868 - val_loss: 0.8808 - val_accuracy: 0.7719\n",
            "Epoch 127/200\n",
            "62/62 [==============================] - 1s 14ms/step - loss: 0.0499 - accuracy: 0.9868 - val_loss: 0.9076 - val_accuracy: 0.7617\n",
            "Epoch 128/200\n",
            "62/62 [==============================] - 1s 15ms/step - loss: 0.0641 - accuracy: 0.9812 - val_loss: 0.8692 - val_accuracy: 0.7800\n",
            "Epoch 129/200\n",
            "62/62 [==============================] - 1s 14ms/step - loss: 0.0615 - accuracy: 0.9827 - val_loss: 0.9335 - val_accuracy: 0.7515\n",
            "Epoch 130/200\n",
            "62/62 [==============================] - 1s 14ms/step - loss: 0.0635 - accuracy: 0.9812 - val_loss: 0.9140 - val_accuracy: 0.7637\n",
            "Epoch 131/200\n",
            "62/62 [==============================] - 1s 15ms/step - loss: 0.0599 - accuracy: 0.9852 - val_loss: 0.9104 - val_accuracy: 0.7617\n",
            "Epoch 132/200\n",
            "62/62 [==============================] - 1s 15ms/step - loss: 0.0511 - accuracy: 0.9852 - val_loss: 0.9126 - val_accuracy: 0.7699\n",
            "Epoch 133/200\n",
            "62/62 [==============================] - 1s 15ms/step - loss: 0.0515 - accuracy: 0.9847 - val_loss: 0.9481 - val_accuracy: 0.7576\n",
            "Epoch 134/200\n",
            "62/62 [==============================] - 1s 15ms/step - loss: 0.0531 - accuracy: 0.9857 - val_loss: 0.8875 - val_accuracy: 0.7719\n",
            "Epoch 135/200\n",
            "62/62 [==============================] - 1s 15ms/step - loss: 0.0489 - accuracy: 0.9888 - val_loss: 0.9421 - val_accuracy: 0.7495\n",
            "Epoch 136/200\n",
            "62/62 [==============================] - 1s 15ms/step - loss: 0.0669 - accuracy: 0.9796 - val_loss: 0.9330 - val_accuracy: 0.7475\n",
            "Epoch 137/200\n",
            "62/62 [==============================] - 1s 14ms/step - loss: 0.0508 - accuracy: 0.9862 - val_loss: 0.9416 - val_accuracy: 0.7515\n",
            "Epoch 138/200\n",
            "62/62 [==============================] - 1s 15ms/step - loss: 0.0661 - accuracy: 0.9868 - val_loss: 0.9521 - val_accuracy: 0.7434\n",
            "Epoch 139/200\n",
            "62/62 [==============================] - 1s 14ms/step - loss: 0.0639 - accuracy: 0.9842 - val_loss: 0.9761 - val_accuracy: 0.7637\n",
            "Epoch 140/200\n",
            "62/62 [==============================] - 1s 15ms/step - loss: 0.0596 - accuracy: 0.9832 - val_loss: 0.9118 - val_accuracy: 0.7597\n",
            "Epoch 141/200\n",
            "62/62 [==============================] - 1s 15ms/step - loss: 0.0654 - accuracy: 0.9781 - val_loss: 0.9557 - val_accuracy: 0.7536\n",
            "Epoch 142/200\n",
            "62/62 [==============================] - 1s 15ms/step - loss: 0.0603 - accuracy: 0.9847 - val_loss: 0.8963 - val_accuracy: 0.7617\n",
            "Epoch 143/200\n",
            "62/62 [==============================] - 1s 15ms/step - loss: 0.0546 - accuracy: 0.9837 - val_loss: 0.9529 - val_accuracy: 0.7699\n",
            "Epoch 144/200\n",
            "62/62 [==============================] - 1s 15ms/step - loss: 0.0655 - accuracy: 0.9822 - val_loss: 0.9053 - val_accuracy: 0.7637\n",
            "Epoch 145/200\n",
            "62/62 [==============================] - 1s 15ms/step - loss: 0.0513 - accuracy: 0.9878 - val_loss: 0.9259 - val_accuracy: 0.7617\n",
            "Epoch 146/200\n",
            "62/62 [==============================] - 1s 15ms/step - loss: 0.0557 - accuracy: 0.9837 - val_loss: 0.9082 - val_accuracy: 0.7597\n",
            "Epoch 147/200\n",
            "62/62 [==============================] - 1s 15ms/step - loss: 0.0665 - accuracy: 0.9822 - val_loss: 0.9451 - val_accuracy: 0.7434\n",
            "Epoch 148/200\n",
            "62/62 [==============================] - 1s 15ms/step - loss: 0.0606 - accuracy: 0.9842 - val_loss: 0.9968 - val_accuracy: 0.7576\n",
            "Epoch 149/200\n",
            "62/62 [==============================] - 1s 15ms/step - loss: 0.0468 - accuracy: 0.9873 - val_loss: 0.8952 - val_accuracy: 0.7637\n",
            "Epoch 150/200\n",
            "62/62 [==============================] - 1s 15ms/step - loss: 0.0432 - accuracy: 0.9908 - val_loss: 0.9334 - val_accuracy: 0.7719\n",
            "Epoch 151/200\n",
            "62/62 [==============================] - 1s 15ms/step - loss: 0.0563 - accuracy: 0.9817 - val_loss: 0.9370 - val_accuracy: 0.7658\n",
            "Epoch 152/200\n",
            "62/62 [==============================] - 1s 15ms/step - loss: 0.0602 - accuracy: 0.9801 - val_loss: 0.9479 - val_accuracy: 0.7597\n",
            "Epoch 153/200\n",
            "62/62 [==============================] - 1s 15ms/step - loss: 0.0480 - accuracy: 0.9878 - val_loss: 0.9604 - val_accuracy: 0.7760\n",
            "Epoch 154/200\n",
            "62/62 [==============================] - 1s 15ms/step - loss: 0.0518 - accuracy: 0.9842 - val_loss: 0.9161 - val_accuracy: 0.7699\n",
            "Epoch 155/200\n",
            "62/62 [==============================] - 1s 15ms/step - loss: 0.0493 - accuracy: 0.9857 - val_loss: 0.8933 - val_accuracy: 0.7597\n",
            "Epoch 156/200\n",
            "62/62 [==============================] - 1s 15ms/step - loss: 0.0533 - accuracy: 0.9847 - val_loss: 0.8842 - val_accuracy: 0.7699\n",
            "Epoch 157/200\n",
            "62/62 [==============================] - 1s 15ms/step - loss: 0.0497 - accuracy: 0.9873 - val_loss: 0.9676 - val_accuracy: 0.7597\n",
            "Epoch 158/200\n",
            "62/62 [==============================] - 1s 15ms/step - loss: 0.0475 - accuracy: 0.9913 - val_loss: 0.9381 - val_accuracy: 0.7597\n",
            "Epoch 159/200\n",
            "62/62 [==============================] - 1s 15ms/step - loss: 0.0593 - accuracy: 0.9776 - val_loss: 0.9220 - val_accuracy: 0.7597\n",
            "Epoch 160/200\n",
            "62/62 [==============================] - 1s 15ms/step - loss: 0.0602 - accuracy: 0.9837 - val_loss: 0.9188 - val_accuracy: 0.7617\n",
            "Epoch 161/200\n",
            "62/62 [==============================] - 1s 15ms/step - loss: 0.0538 - accuracy: 0.9862 - val_loss: 0.9257 - val_accuracy: 0.7597\n",
            "Epoch 162/200\n",
            "62/62 [==============================] - 1s 15ms/step - loss: 0.0474 - accuracy: 0.9862 - val_loss: 0.9274 - val_accuracy: 0.7536\n",
            "Epoch 163/200\n",
            "62/62 [==============================] - 1s 15ms/step - loss: 0.0578 - accuracy: 0.9817 - val_loss: 0.9756 - val_accuracy: 0.7678\n",
            "Epoch 164/200\n",
            "62/62 [==============================] - 1s 15ms/step - loss: 0.0511 - accuracy: 0.9847 - val_loss: 0.9243 - val_accuracy: 0.7597\n",
            "Epoch 165/200\n",
            "62/62 [==============================] - 1s 15ms/step - loss: 0.0433 - accuracy: 0.9908 - val_loss: 0.9314 - val_accuracy: 0.7719\n",
            "Epoch 166/200\n",
            "62/62 [==============================] - 1s 15ms/step - loss: 0.0484 - accuracy: 0.9898 - val_loss: 0.9365 - val_accuracy: 0.7617\n",
            "Epoch 167/200\n",
            "62/62 [==============================] - 1s 15ms/step - loss: 0.0375 - accuracy: 0.9913 - val_loss: 0.9294 - val_accuracy: 0.7699\n",
            "Epoch 168/200\n",
            "62/62 [==============================] - 1s 15ms/step - loss: 0.0408 - accuracy: 0.9888 - val_loss: 0.9119 - val_accuracy: 0.7658\n",
            "Epoch 169/200\n",
            "62/62 [==============================] - 1s 15ms/step - loss: 0.0528 - accuracy: 0.9873 - val_loss: 0.9304 - val_accuracy: 0.7495\n",
            "Epoch 170/200\n",
            "62/62 [==============================] - 1s 15ms/step - loss: 0.0546 - accuracy: 0.9832 - val_loss: 0.9120 - val_accuracy: 0.7637\n",
            "Epoch 171/200\n",
            "62/62 [==============================] - 1s 16ms/step - loss: 0.0570 - accuracy: 0.9822 - val_loss: 0.9286 - val_accuracy: 0.7780\n",
            "Epoch 172/200\n",
            "62/62 [==============================] - 1s 15ms/step - loss: 0.0426 - accuracy: 0.9918 - val_loss: 0.9130 - val_accuracy: 0.7678\n",
            "Epoch 173/200\n",
            "62/62 [==============================] - 1s 15ms/step - loss: 0.0463 - accuracy: 0.9852 - val_loss: 0.9491 - val_accuracy: 0.7637\n",
            "Epoch 174/200\n",
            "62/62 [==============================] - 1s 15ms/step - loss: 0.0461 - accuracy: 0.9878 - val_loss: 0.9302 - val_accuracy: 0.7597\n",
            "Epoch 175/200\n",
            "62/62 [==============================] - 1s 15ms/step - loss: 0.0536 - accuracy: 0.9852 - val_loss: 0.9216 - val_accuracy: 0.7739\n",
            "Epoch 176/200\n",
            "62/62 [==============================] - 1s 15ms/step - loss: 0.0467 - accuracy: 0.9868 - val_loss: 0.9071 - val_accuracy: 0.7760\n",
            "Epoch 177/200\n",
            "62/62 [==============================] - 1s 15ms/step - loss: 0.0447 - accuracy: 0.9873 - val_loss: 0.9025 - val_accuracy: 0.7719\n",
            "Epoch 178/200\n",
            "62/62 [==============================] - 1s 15ms/step - loss: 0.0477 - accuracy: 0.9832 - val_loss: 0.9027 - val_accuracy: 0.7821\n",
            "Epoch 179/200\n",
            "62/62 [==============================] - 1s 15ms/step - loss: 0.0445 - accuracy: 0.9883 - val_loss: 0.9323 - val_accuracy: 0.7597\n",
            "Epoch 180/200\n",
            "62/62 [==============================] - 1s 15ms/step - loss: 0.0483 - accuracy: 0.9878 - val_loss: 0.9188 - val_accuracy: 0.7617\n",
            "Epoch 181/200\n",
            "62/62 [==============================] - 1s 15ms/step - loss: 0.0399 - accuracy: 0.9908 - val_loss: 0.9438 - val_accuracy: 0.7658\n",
            "Epoch 182/200\n",
            "62/62 [==============================] - 1s 15ms/step - loss: 0.0461 - accuracy: 0.9868 - val_loss: 0.9475 - val_accuracy: 0.7719\n",
            "Epoch 183/200\n",
            "62/62 [==============================] - 1s 15ms/step - loss: 0.0446 - accuracy: 0.9847 - val_loss: 0.9410 - val_accuracy: 0.7597\n",
            "Epoch 184/200\n",
            "62/62 [==============================] - 1s 15ms/step - loss: 0.0361 - accuracy: 0.9918 - val_loss: 0.9125 - val_accuracy: 0.7658\n",
            "Epoch 185/200\n",
            "62/62 [==============================] - 1s 15ms/step - loss: 0.0441 - accuracy: 0.9893 - val_loss: 0.9645 - val_accuracy: 0.7556\n",
            "Epoch 186/200\n",
            "62/62 [==============================] - 1s 15ms/step - loss: 0.0389 - accuracy: 0.9888 - val_loss: 0.9625 - val_accuracy: 0.7576\n",
            "Epoch 187/200\n",
            "62/62 [==============================] - 1s 15ms/step - loss: 0.0385 - accuracy: 0.9893 - val_loss: 0.9708 - val_accuracy: 0.7739\n",
            "Epoch 188/200\n",
            "62/62 [==============================] - 1s 15ms/step - loss: 0.0406 - accuracy: 0.9898 - val_loss: 0.9267 - val_accuracy: 0.7658\n",
            "Epoch 189/200\n",
            "62/62 [==============================] - 1s 15ms/step - loss: 0.0393 - accuracy: 0.9883 - val_loss: 0.9496 - val_accuracy: 0.7699\n",
            "Epoch 190/200\n",
            "62/62 [==============================] - 1s 15ms/step - loss: 0.0387 - accuracy: 0.9903 - val_loss: 0.9810 - val_accuracy: 0.7658\n",
            "Epoch 191/200\n",
            "62/62 [==============================] - 1s 15ms/step - loss: 0.0410 - accuracy: 0.9898 - val_loss: 0.9857 - val_accuracy: 0.7658\n",
            "Epoch 192/200\n",
            "62/62 [==============================] - 1s 15ms/step - loss: 0.0321 - accuracy: 0.9913 - val_loss: 0.9507 - val_accuracy: 0.7699\n",
            "Epoch 193/200\n",
            "62/62 [==============================] - 1s 15ms/step - loss: 0.0504 - accuracy: 0.9847 - val_loss: 0.9339 - val_accuracy: 0.7699\n",
            "Epoch 194/200\n",
            "62/62 [==============================] - 1s 15ms/step - loss: 0.0356 - accuracy: 0.9903 - val_loss: 0.9434 - val_accuracy: 0.7597\n",
            "Epoch 195/200\n",
            "62/62 [==============================] - 1s 15ms/step - loss: 0.0362 - accuracy: 0.9908 - val_loss: 0.9161 - val_accuracy: 0.7597\n",
            "Epoch 196/200\n",
            "62/62 [==============================] - 1s 15ms/step - loss: 0.0360 - accuracy: 0.9934 - val_loss: 0.9347 - val_accuracy: 0.7760\n",
            "Epoch 197/200\n",
            "62/62 [==============================] - 1s 15ms/step - loss: 0.0347 - accuracy: 0.9908 - val_loss: 0.9741 - val_accuracy: 0.7475\n",
            "Epoch 198/200\n",
            "62/62 [==============================] - 1s 15ms/step - loss: 0.0405 - accuracy: 0.9893 - val_loss: 0.9724 - val_accuracy: 0.7597\n",
            "Epoch 199/200\n",
            "62/62 [==============================] - 1s 15ms/step - loss: 0.0416 - accuracy: 0.9868 - val_loss: 1.0252 - val_accuracy: 0.7515\n",
            "Epoch 200/200\n",
            "62/62 [==============================] - 1s 15ms/step - loss: 0.0352 - accuracy: 0.9918 - val_loss: 1.0300 - val_accuracy: 0.7719\n"
          ]
        }
      ]
    },
    {
      "cell_type": "markdown",
      "metadata": {
        "id": "poa9ZtiBbpfT"
      },
      "source": [
        "##Plotting Accuracy and Loss Graphs"
      ]
    },
    {
      "cell_type": "code",
      "metadata": {
        "colab": {
          "base_uri": "https://localhost:8080/",
          "height": 295
        },
        "id": "_47gjF_WbBBP",
        "outputId": "5a9ae152-5ed9-4c56-e2b1-402ca0fe853f"
      },
      "source": [
        "plt.plot(cnnhistory.history['accuracy'])\n",
        "plt.plot(cnnhistory.history['val_accuracy'])\n",
        "plt.title('model accuracy')\n",
        "plt.ylabel('accuracy')\n",
        "plt.xlabel('epoch')\n",
        "plt.legend(['train', 'validation'], loc='upper left')\n",
        "plt.show()"
      ],
      "execution_count": null,
      "outputs": [
        {
          "output_type": "display_data",
          "data": {
            "image/png": "[encoded data removed]",
            "text/plain": [
              "<Figure size 432x288 with 1 Axes>"
            ]
          },
          "metadata": {
            "needs_background": "light"
          }
        }
      ]
    },
    {
      "cell_type": "code",
      "metadata": {
        "colab": {
          "base_uri": "https://localhost:8080/",
          "height": 295
        },
        "id": "3ReYo-6BbH1W",
        "outputId": "b2b3e059-5a72-4b02-e609-2e395989b982"
      },
      "source": [
        "plt.plot(cnnhistory.history['loss'])\n",
        "plt.plot(cnnhistory.history['val_loss'])\n",
        "plt.title('model loss')\n",
        "plt.ylabel('loss')\n",
        "plt.xlabel('epoch')\n",
        "plt.legend(['train', 'validation'], loc='upper left')\n",
        "plt.show()"
      ],
      "execution_count": null,
      "outputs": [
        {
          "output_type": "display_data",
          "data": {
            "image/png": "[encoded data removed]",
            "text/plain": [
              "<Figure size 432x288 with 1 Axes>"
            ]
          },
          "metadata": {
            "needs_background": "light"
          }
        }
      ]
    }
  ]
}